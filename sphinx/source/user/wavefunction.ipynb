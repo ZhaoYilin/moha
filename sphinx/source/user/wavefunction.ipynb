{
 "cells": [
  {
   "cell_type": "markdown",
   "id": "ca71b2e1",
   "metadata": {},
   "source": [
    "## Wave Function \n",
    "\n",
    "Hamiltonian object has attributes of different operators use the following conventions for variable names. The following are defined by setting up the Hamiltonian by default:\n"
   ]
  },
  {
   "cell_type": "code",
   "execution_count": null,
   "id": "ae9fed26",
   "metadata": {},
   "outputs": [],
   "source": []
  }
 ],
 "metadata": {
  "kernelspec": {
   "display_name": "Python 3.9.7 ('moha')",
   "language": "python",
   "name": "python3"
  },
  "language_info": {
   "codemirror_mode": {
    "name": "ipython",
    "version": 3
   },
   "file_extension": ".py",
   "mimetype": "text/x-python",
   "name": "python",
   "nbconvert_exporter": "python",
   "pygments_lexer": "ipython3",
   "version": "3.9.7"
  },
  "vscode": {
   "interpreter": {
    "hash": "3b4dd1ce6c8ed31661adb8e55d1f9c30ec54ed472785ff10576acd13e5f2c743"
   }
  }
 },
 "nbformat": 4,
 "nbformat_minor": 5
}
