{
 "cells": [
  {
   "cell_type": "markdown",
   "id": "a2fdda00",
   "metadata": {},
   "source": [
    "# Introduction\n",
    "\n",
    "This chapter introduces the primary use of MoHa calculation, and you can find those examples in the `moharoot/data/examples` directory. The accompanying user guide will present additional details on the various modules.\n",
    "\n",
    "\n",
    "To begin a MoHa calculation, first build the Hamiltonian of a system. In terms of second quantization operators, a time-independent non-relativistic Hamiltonian gives:\n",
    "\\begin{equation}\n",
    "H = - \\sum_{ij} t_{ij}\\hat{c}^{\\dagger}_{i}\\hat{c}_{j} + \\frac{1}{2} \\sum_{ijkl}\n",
    "V_{ijkl}\\hat{c}^{\\dagger}_{i}\\hat{c}^{\\dagger}_{k}\\hat{c}_{l}\\hat{c}_{j}\n",
    "\\end{equation}\n",
    "\n",
    "The construction of the molecular Hamiltonian is set in three steps.\n",
    "\n",
    "- Construct a molecular geometry.\n",
    "- Generate a basis set for the molecular.\n",
    "- Generate all kinds of operators with molecule and basis set to define a Hamiltonian.\n"
   ]
  },
  {
   "cell_type": "code",
   "execution_count": null,
   "id": "558e7c42",
   "metadata": {},
   "outputs": [],
   "source": [
    "from moha import *\n",
    "\n",
    "log.output('silent')\n",
    "\n",
    "geo = [[8,   0.000000000000,  -0.143225816552,   0.000000000000],\n",
    "    ['h',   1.638036840407,   1.136548822547,  -0.000000000000],\n",
    "    [\"H\",  -1.638036840407,   1.136548822547,  -0.000000000000]]\n",
    "\n",
    "mol = Molecule.build(geo,pg=False)\n",
    "orb = BasisSet.build(mol,'sto-3g.nwchem')\n",
    "\n",
    "ham = Hamiltonian.build(mol,orb)\n",
    "sym = Symmetry(n=10,ms2=2,ipg=0)\n",
    "\n",
    "hf_solver = HFSolver(ham,sym)\n",
    "hf_energy,hf_wfn = hf_solver.uhf()"
   ]
  }
 ],
 "metadata": {
  "kernelspec": {
   "display_name": "Python 3 (ipykernel)",
   "language": "python",
   "name": "python3"
  },
  "language_info": {
   "codemirror_mode": {
    "name": "ipython",
    "version": 3
   },
   "file_extension": ".py",
   "mimetype": "text/x-python",
   "name": "python",
   "nbconvert_exporter": "python",
   "pygments_lexer": "ipython3",
   "version": "3.10.6"
  }
 },
 "nbformat": 4,
 "nbformat_minor": 5
}
