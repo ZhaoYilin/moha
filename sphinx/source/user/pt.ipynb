{
 "cells": [
  {
   "cell_type": "markdown",
   "id": "2939a05d",
   "metadata": {},
   "source": [
    "# Perturbation Theory\n",
    "\n",
    "Perturbation theory is a collection of versatile methods used in many branches of science, and it divides the system into a model part $\\hat{H}_0$ which is a known approximation to the real system $\\hat{H}$ and a perturbation part $\\hat{V}$.\n",
    "\n",
    "\\begin{equation}\n",
    "\\hat{H} = \\hat{H}_0 + \\lambda\\hat{V}\n",
    "\\end{equation}\n",
    "\n",
    "where $\\lambda$ is a parameter that is small enough to guarantee convergence.\n",
    "\n",
    "Møller-Plesset perturbation theory is a particular case of perturbation theory, where we take the Fock operator $\\hat{F}$ as the model operator, and the perturbation operator is given by\n",
    "\n",
    "\\begin{equation}\n",
    "\\hat{V} = \\hat{H} - \\hat{F}\n",
    "\\end{equation}\n",
    "\n",
    "As the cornerstone of ab initio quantum chemistry, Hartree--Fock calculation results in the wavefunction $\\Phi_{HF}$, the Fock operator $\\hat{F}$, ground state energy $E_{HF}$ and the orbital energies $\\{\\epsilon_i\\}$. Thus, the zeroth-order time-independent Schrodinger equation is defined as:\n",
    "\n",
    "\\begin{equation}\n",
    "\\hat{H}^{(0)}\\Phi_{0}^{(0)} = E_{0}^{(0)}\\Phi_{0}^{(0)}\n",
    "\\end{equation}\n",
    "\n",
    "here the zeroth--order Hamiltonian $\\hat{H}^{(0)}$ is taken as the Fock operator，\n",
    "\n",
    "\\begin{equation}\n",
    "\\hat{H}^{(0)} = \\hat{F}\n",
    "\\end{equation}\n",
    "\n",
    "and the zeroth-order wavefunction $\\Phi_{0}$ refers to the Hartree-Fock wavefunction，\n",
    "\n",
    "\\begin{equation}\n",
    "\\Phi_{0} = \\Phi_{HF}\n",
    "\\end{equation}\n",
    "\n",
    "furthermore, the corresponding energy $E^{(0)}_0$ is the sum of orbital energies $\\{\\epsilon_i\\}$, which is the eigenvalues of the Fock operator $\\hat{F}$.\n",
    "\n",
    "\\begin{equation}\n",
    "E^{(0)} = \\sum_i^{occ} \\epsilon_i\n",
    "\\end{equation}\n",
    "\n",
    "As the solution of the zeroth-order equation is known, one expects that the Møller-Plesset theory performs on top of the previous result. Therefore we can determine the various nth-order corrections."
   ]
  },
  {
   "cell_type": "markdown",
   "id": "60de4920",
   "metadata": {},
   "source": [
    "## Algorithm"
   ]
  },
  {
   "cell_type": "markdown",
   "id": "20db38fc",
   "metadata": {},
   "source": [
    "### Step 1: Build The Integral\n",
    "\n",
    "The pre-computed quantities for the SCF algorithm include:\n",
    "\n",
    "- The nuclear repulsion energy $E_{nuc}$.\n",
    "\n",
    "- One-electron integrals overlap $\\mathbf{S}$, kinetic energy $\\mathbf{T}$, and nuclear attraction $\\mathbf{V}$.\n",
    "\n",
    "- Two-electron integral, the electron repulsion $(\\mu\\nu\\vert\\lambda\\sigma)$.\n",
    "\n",
    "Please check out the :ref:`Hamiltonian <Hamiltonian>` section for further information to learn more about the pre-computed quantities."
   ]
  },
  {
   "cell_type": "markdown",
   "id": "6a9a26ad",
   "metadata": {},
   "source": [
    "### Step 2: Optimized the molecular orbital coefficients by SCF Calculation\n",
    "\n",
    "The Hartree-Fock method is an uncorrelated mean--field theory that offers a qualitative description of chemical systems. Although Hartree--Fock theory is only qualitatively correct, it forms the basis for more accurate models and becomes the cornerstone of ab initio quantum chemistry.\n",
    "\n",
    "Please check out the :doc:`user_hf` section for further information."
   ]
  },
  {
   "cell_type": "markdown",
   "id": "c658ad50",
   "metadata": {},
   "source": [
    "### Step 3: Transformation of atomic orbital to molecular orbital\n",
    "\n",
    "With the optimized LCAO_MO coefficients, we can transform the operators from the atomic orbital basis to the molecular orbital basis.\n",
    "\n",
    "For the one electron operators:\n",
    "\\begin{equation}\n",
    "h_{ij} = \\sum_{\\mu\\nu}C_{\\mu}^jC_{\\nu}^i \\langle\\phi_{\\mu}\\vert\\hat{h}\\vert\\phi_{\\nu}\\rangle\n",
    "= \\sum_{\\mu\\nu} C_{\\mu}^j C_{\\nu}^i F_{\\mu\\nu}\n",
    "\\end{equation}\n",
    "\n",
    "For the two electron operators:\n",
    "\\begin{equation}\n",
    "\\langle pq \\vert rs\\rangle = \\sum_{\\mu} C_{\\mu}^p \\left[\n",
    "\\sum_{\\nu} C_{\\nu}^q \\left[\n",
    "\\sum_{\\lambda} C_{\\lambda}^r \\left[\n",
    "\\sum_{\\sigma} C_{\\sigma}^s \n",
    "\\langle\\mu\\nu\\vert\\lambda\\sigma\\rangle\\right]\\right]\\right]\n",
    "\\end{equation}"
   ]
  },
  {
   "cell_type": "markdown",
   "id": "e8f4dc47",
   "metadata": {},
   "source": [
    "### Step 4: Calculate the Correction Energy to n--th Order\n",
    "\n",
    "Perturbation theory applies a biased bi--partition of the Hamiltonian $\\hat{H}$. The whole Hilbert space $\\mathcal{H}$ is also split into two parts: model space $\\mathcal{P}$ and the orthogonal space $\\mathcal{Q}$.\n",
    "\\begin{equation}\n",
    "\\mathcal{H} = \\mathcal{P} \\oplus \\mathcal{Q}\n",
    "\\end{equation}\n",
    "\n",
    "The model space $\\mathcal{P}$ is spanned by the reference function $\\{\\Phi_{0}\\}$, and the complementary space $\\mathcal{Q}$ is spanned by the excitation configurations $\\{S, D, T, \\dots\\}$.\n",
    "\n",
    "Given the Møller-Plesset perturbation operator $\\hat{V}$, with a reasonably accurate reference $\\Phi_{HF}$, we can calculate the electron correlation energy to arbitrary order in a non--iterative way. Here list the equation of correlation energy from orders one up to three:\n",
    "\n",
    "- MP1\n",
    "\n",
    "\\begin{equation}\n",
    "E_{MP1} = \\langle \\Phi_0 \\vert\\hat{V}\\vert \\Phi_0 \\rangle\n",
    "= \\frac{1}{2} \\sum_{ij} \\langle ij\\vert\\vert ij\\rangle\n",
    "\\end{equation}\n",
    "\n",
    "- MP2\n",
    "\n",
    "\\begin{equation}\n",
    "E_{MP2} = \\langle \\Phi_0 \\vert\\hat{V}\\vert D \\rangle\n",
    "\\langle D \\vert\\hat{V}\\vert \\Phi_0 \\rangle\n",
    "= \\sum_{ij} \\sum_{ab} \n",
    "\\frac{\\langle ia\\vert jb\\rangle (2 \\langle ia\\vert jb\\rangle -\n",
    "\\langle ib\\vert ja\\rangle)}\n",
    "{\\epsilon_i + \\epsilon_j - \\epsilon_a - \\epsilon_b}\n",
    "\\end{equation}"
   ]
  },
  {
   "cell_type": "markdown",
   "id": "129b1544",
   "metadata": {},
   "source": [
    "## Examples"
   ]
  },
  {
   "cell_type": "markdown",
   "id": "e21b57ab",
   "metadata": {},
   "source": [
    "### MP2\n",
    "\n",
    "Depending on the choice of Møller-Plesset perturbation operator $\\hat{V}$, the first order correction energy $E_{MP1}$ might be zero or none zero, but $E_{MP0} + E_{MP1}$ is always equal to the Hartree--Fock energy $E_{HF}$. Hence, the first meaningful correction in Møller--Plesset perturbation theory is second-order energy."
   ]
  },
  {
   "cell_type": "code",
   "execution_count": 2,
   "id": "5a90d703",
   "metadata": {},
   "outputs": [],
   "source": [
    "from moha import *\n",
    "\n",
    "log.output('silent')\n",
    "\n",
    "geo = [[8,   0.000000000000,  -0.143225816552,   0.000000000000],\n",
    "    ['h',   1.638036840407,   1.136548822547,  -0.000000000000],\n",
    "    [\"H\",  -1.638036840407,   1.136548822547,  -0.000000000000]]\n",
    "\n",
    "mol = Molecule.build(geo,pg=False)\n",
    "orb = BasisSet.build(mol,'sto-3g.nwchem')\n",
    "\n",
    "ham = Hamiltonian.build(mol,orb)\n",
    "sym = Symmetry(n=10,ms2=2,ipg=0)\n",
    "\n",
    "hf_solver = HFSolver(ham,sym)\n",
    "hf_energy,hf_wfn = hf_solver.uhf()"
   ]
  }
 ],
 "metadata": {
  "kernelspec": {
   "display_name": "Python 3 (ipykernel)",
   "language": "python",
   "name": "python3"
  },
  "language_info": {
   "codemirror_mode": {
    "name": "ipython",
    "version": 3
   },
   "file_extension": ".py",
   "mimetype": "text/x-python",
   "name": "python",
   "nbconvert_exporter": "python",
   "pygments_lexer": "ipython3",
   "version": "3.11.4"
  }
 },
 "nbformat": 4,
 "nbformat_minor": 5
}
