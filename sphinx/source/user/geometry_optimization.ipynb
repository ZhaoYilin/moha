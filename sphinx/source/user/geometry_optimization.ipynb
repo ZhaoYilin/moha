{
 "cells": [
  {
   "cell_type": "markdown",
   "id": "b1a63993",
   "metadata": {},
   "source": [
    "# Geometry Optimization"
   ]
  },
  {
   "cell_type": "markdown",
   "id": "e03bc6f0",
   "metadata": {},
   "source": [
    "## Patrial diff Integral\n",
    "\n",
    "In this section the geometry optimization are described. In general the derivative of the Gaussian basisset functions is given as:\n",
    "\n",
    "\\begin{equation}\n",
    "\\frac{\\partial \\phi_{lmn}}{\\partial X_A} = [(2l+1)a]^{1/2}\\phi_{l+1,m,n} -2l(\\frac{a}{2l-1})^{1/2}\\phi_{l-1,m,n}\n",
    "\\end{equation}"
   ]
  },
  {
   "cell_type": "markdown",
   "id": "4ad3c9ca",
   "metadata": {},
   "source": [
    "## Gradient\n",
    "\n",
    "\\begin{equation}\n",
    "\\frac{\\partial E}{\\partial A_t} = \\frac{\\partial E_{elec}}{\\partial A_t} + \\frac{\\partial E_{nuc}}{\\partial A_t}\n",
    "\\end{equation}"
   ]
  },
  {
   "cell_type": "markdown",
   "id": "be80b267",
   "metadata": {},
   "source": [
    "## Hessian\n",
    "\n",
    "\\begin{equation}\n",
    "\\frac{\\partial E}{\\partial A_t} = \\frac{\\partial E_{elec}}{\\partial A_t} + \\frac{\\partial E_{nuc}}{\\partial A_t}\n",
    "\\end{equation}"
   ]
  },
  {
   "cell_type": "code",
   "execution_count": null,
   "id": "68032469",
   "metadata": {},
   "outputs": [],
   "source": []
  }
 ],
 "metadata": {
  "kernelspec": {
   "display_name": "Python 3 (ipykernel)",
   "language": "python",
   "name": "python3"
  },
  "language_info": {
   "codemirror_mode": {
    "name": "ipython",
    "version": 3
   },
   "file_extension": ".py",
   "mimetype": "text/x-python",
   "name": "python",
   "nbconvert_exporter": "python",
   "pygments_lexer": "ipython3",
   "version": "3.10.6"
  },
  "vscode": {
   "interpreter": {
    "hash": "3b4dd1ce6c8ed31661adb8e55d1f9c30ec54ed472785ff10576acd13e5f2c743"
   }
  }
 },
 "nbformat": 4,
 "nbformat_minor": 5
}
