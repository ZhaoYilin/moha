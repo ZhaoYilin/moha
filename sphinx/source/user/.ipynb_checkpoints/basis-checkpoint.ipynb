{
 "cells": [
  {
   "cell_type": "markdown",
   "id": "3d63629e",
   "metadata": {},
   "source": [
    "## Basis Set\n",
    "\n",
    "MoHa supports Cartesian Gaussian type orbtial (GTO), it is an atomic orbital used in linear combinations forming molecular orbitals. Cartesian GTOs are defiend by an angular par which is homogeneous polynomial in the compoents x, y, and z of the position vector $\\mathbf{r}$. That is,\n",
    "\\begin{equation}\n",
    "G_{ijk}(r_A,\\alpha) = x^i_A y^j_A z^k_A e^{-\\alpha r^2_A}\n",
    "\\end{equation}\n",
    "\n",
    "here $r_A = r - A$ is the atom-centered function $\\alpha > 0$ is the real orbital exponent and $i+j+k = n$.\n",
    "\n",
    "MoHa use the same basis set input file as NWChem, all the available basis set file can be found in the `moha/data/examples` directory. If you need basis set more than MoHa offered, you can downloaded it from the EMSL webpage (https://bse.pnl.gov/bse/portal).\n",
    "\n",
    "STO-3G EMSL basis set of hydrogen and oxygen:"
   ]
  },
  {
   "cell_type": "markdown",
   "id": "ae5c13c1",
   "metadata": {},
   "source": [
    "    #  STO-3G  EMSL  Basis Set Exchange Library  8/21/18 3:24 AM\n",
    "    # Elements                             References\n",
    "    # --------                             ----------\n",
    "    #  H - Ne: W.J. Hehre, R.F. Stewart and J.A. Pople, J. Chem. Phys. 2657 (1969).\n",
    "    # Na - Ar: W.J. Hehre, R. Ditchfield, R.F. Stewart, J.A. Pople,\n",
    "    #          J. Chem. Phys.  2769 (1970).\n",
    "    # K,Ca - : W.J. Pietro, B.A. Levy, W.J. Hehre and R.F. Stewart,\n",
    "    # Ga - Kr: J. Am. Chem. Soc. 19, 2225 (1980).\n",
    "    # Sc - Zn: W.J. Pietro and W.J. Hehre, J. Comp. Chem. 4, 241 (1983) + Gaussian.\n",
    "    #  Y - Cd: W.J. Pietro and W.J. Hehre, J. Comp. Chem. 4, 241 (1983). + Gaussian\n",
    "    #   \n",
    "\n",
    "\n",
    "    BASIS \"ao basis\" PRINT\n",
    "    #BASIS SET: (3s) -> [1s]\n",
    "    H    S\n",
    "        3.42525091             0.15432897       \n",
    "        0.62391373             0.53532814       \n",
    "        0.16885540             0.44463454       \n",
    "    #BASIS SET: (6s,3p) -> [2s,1p]\n",
    "    O    S\n",
    "        130.7093200              0.15432897       \n",
    "        23.8088610              0.53532814       \n",
    "        6.4436083              0.44463454       \n",
    "    O    SP\n",
    "        5.0331513             -0.09996723             0.15591627       \n",
    "        1.1695961              0.39951283             0.60768372       \n",
    "        0.3803890              0.70011547             0.39195739       \n",
    "    END"
   ]
  },
  {
   "cell_type": "markdown",
   "id": "dd98d42e",
   "metadata": {},
   "source": [
    "|  Atom  | number | name |symbol|coordinate|mass|\n",
    "|:--------:|:--------:|:------:|:------:|:----------:|:----:|\n",
    "|mol\\[0\\]|    8   | Oxygen | O|(0.000000,-0.143225,0.000000)|15.9994|\n",
    "|mol\\[1\\]|    1   | Hydrogen | H|(1.638036,1.136548,-0.000000)|1.007975|\n",
    "|mol\\[2\\]|    1   | Hydrogen | H|(-1.638036,1.136548,-0.000000)|1.007975|"
   ]
  },
  {
   "cell_type": "code",
   "execution_count": 1,
   "id": "93767509",
   "metadata": {},
   "outputs": [],
   "source": [
    "from moha.molecule import Molecule\n",
    "from moha.basis import BasisSet\n",
    "\n",
    "geo = [[8,   0.000000000000,  -0.143225816552,   0.000000000000],\n",
    "    ['h',   1.638036840407,   1.136548822547,  -0.000000000000],\n",
    "    [\"H\",  -1.638036840407,   1.136548822547,  -0.000000000000]]\n",
    "\n",
    "mol = Molecule.build(geo,pg=False)\n",
    "orb = BasisSet.build(mol,'sto-3g.nwchem')"
   ]
  },
  {
   "cell_type": "code",
   "execution_count": 6,
   "id": "5b7d1a26",
   "metadata": {},
   "outputs": [
    {
     "name": "stdout",
     "output_type": "stream",
     "text": [
      "['__add__', '__call__', '__class__', '__delattr__', '__dict__', '__dir__', '__doc__', '__eq__', '__format__', '__ge__', '__getattribute__', '__gt__', '__hash__', '__init__', '__init_subclass__', '__le__', '__lt__', '__module__', '__mul__', '__ne__', '__neg__', '__new__', '__reduce__', '__reduce_ex__', '__repr__', '__rmul__', '__setattr__', '__sizeof__', '__str__', '__sub__', '__subclasshook__', '__truediv__', '__weakref__', 'coefficients', 'expansion', 'exponents', 'norm', 'norm_memo', 'origin', 'parallel', 'shell']\n"
     ]
    },
    {
     "ename": "UnboundLocalError",
     "evalue": "local variable 'exponents' referenced before assignment",
     "output_type": "error",
     "traceback": [
      "\u001b[0;31m---------------------------------------------------------------------------\u001b[0m",
      "\u001b[0;31mUnboundLocalError\u001b[0m                         Traceback (most recent call last)",
      "Input \u001b[0;32mIn [6]\u001b[0m, in \u001b[0;36m<cell line: 2>\u001b[0;34m()\u001b[0m\n\u001b[1;32m      1\u001b[0m \u001b[38;5;28mprint\u001b[39m(\u001b[38;5;28mdir\u001b[39m(orb[\u001b[38;5;241m0\u001b[39m]))\n\u001b[0;32m----> 2\u001b[0m \u001b[38;5;28mprint\u001b[39m(\u001b[38;5;241m2\u001b[39m\u001b[38;5;241m*\u001b[39morb[\u001b[38;5;241m0\u001b[39m])\n",
      "File \u001b[0;32m~/Work/code/github/moha/moha/basis/gauss.py:207\u001b[0m, in \u001b[0;36mContractedGaussian.__rmul__\u001b[0;34m(self, other)\u001b[0m\n\u001b[1;32m    206\u001b[0m \u001b[38;5;28;01mdef\u001b[39;00m \u001b[38;5;21m__rmul__\u001b[39m(\u001b[38;5;28mself\u001b[39m,other):\n\u001b[0;32m--> 207\u001b[0m     \u001b[38;5;28;01mreturn\u001b[39;00m(\u001b[38;5;28;43mself\u001b[39;49m\u001b[38;5;241;43m.\u001b[39;49m\u001b[38;5;21;43m__mul__\u001b[39;49m\u001b[43m(\u001b[49m\u001b[43mother\u001b[49m\u001b[43m)\u001b[49m)\n",
      "File \u001b[0;32m~/Work/code/github/moha/moha/basis/gauss.py:198\u001b[0m, in \u001b[0;36mContractedGaussian.__mul__\u001b[0;34m(self, other)\u001b[0m\n\u001b[1;32m    196\u001b[0m origin \u001b[38;5;241m=\u001b[39m \u001b[38;5;28mself\u001b[39m\u001b[38;5;241m.\u001b[39morigin\n\u001b[1;32m    197\u001b[0m shell \u001b[38;5;241m=\u001b[39m \u001b[38;5;28mself\u001b[39m\u001b[38;5;241m.\u001b[39mshell\n\u001b[0;32m--> 198\u001b[0m exponents \u001b[38;5;241m=\u001b[39m \u001b[43mexponents\u001b[49m\n\u001b[1;32m    199\u001b[0m new_CGTO \u001b[38;5;241m=\u001b[39m \u001b[38;5;28mself\u001b[39m\u001b[38;5;241m.\u001b[39m\u001b[38;5;18m__class__\u001b[39m(coefficients,origin,shell,exponents)\n\u001b[1;32m    200\u001b[0m \u001b[38;5;28;01mreturn\u001b[39;00m new_CGTO\n",
      "\u001b[0;31mUnboundLocalError\u001b[0m: local variable 'exponents' referenced before assignment"
     ]
    }
   ],
   "source": [
    "print(dir(orb[0]))\n",
    "print(2*orb[0])"
   ]
  },
  {
   "cell_type": "markdown",
   "id": "3b8ff243",
   "metadata": {},
   "source": [
    "|  Atom  | shell | Angular momentum |Spherical part |\n",
    "|:--------:|:--------:|:------:|:------:|\n",
    "| O|    8   | Oxygen | O|\n"
   ]
  }
 ],
 "metadata": {
  "kernelspec": {
   "display_name": "Python 3 (ipykernel)",
   "language": "python",
   "name": "python3"
  },
  "language_info": {
   "codemirror_mode": {
    "name": "ipython",
    "version": 3
   },
   "file_extension": ".py",
   "mimetype": "text/x-python",
   "name": "python",
   "nbconvert_exporter": "python",
   "pygments_lexer": "ipython3",
   "version": "3.10.6"
  },
  "vscode": {
   "interpreter": {
    "hash": "3b4dd1ce6c8ed31661adb8e55d1f9c30ec54ed472785ff10576acd13e5f2c743"
   }
  }
 },
 "nbformat": 4,
 "nbformat_minor": 5
}
