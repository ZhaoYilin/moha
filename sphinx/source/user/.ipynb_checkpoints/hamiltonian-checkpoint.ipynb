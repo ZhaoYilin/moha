{
 "cells": [
  {
   "cell_type": "markdown",
   "id": "25c89a4d",
   "metadata": {},
   "source": [
    "# Hamiltonian\n",
    "\n",
    "The core mechanical quantities of a chemistry system is the Hamiltonian. Hamiltonian operator should include the kinetic energy and potential energy terms of all atomic nuclei and all electrons. It is generally assumed that the molecule is in a vacuum and adiabatic state in isolation. At this time, the interaction potential energy between the nucleus and the electron in the molecule is only related to distance from each other and time independent. Its expression is:\n",
    "\\begin{equation}\n",
    "\\begin{aligned}\n",
    "\\hat{H}= &-\\sum^N_{i=1}\\frac{\\hbar^2}{2m_i}{\\nabla}_i^2\n",
    "-\\sum^N_{i=1}\\sum^M_{\\alpha=1} \\frac{Z_a e^2}{\\textbf{r}_{ia}}\\\\\n",
    "&+\\sum^N_{i=1}\\sum^N_{j>i} \\frac{e^2}{\\textbf{r}_{ij}}\n",
    "+\\sum^N_{a=1}\\sum^M_{b=1} \\frac{Z_a Z_b e^2}{\\textbf{R}_{ab}}\n",
    "\\end{aligned}\n",
    "\\tag{1}\n",
    "\\label{ham}\n",
    "\\end{equation}\n",
    "\n",
    "Where $m_i$ is the mass of electron. $M_\\alpha$ and $Z_\\alpha$ refer to the mass and charge of atomic nucleus. $R_{\\alpha\\beta}$, $r_{i\\alpha}$ and $r_{ij}$ is the distance between two nucleus, atomic nuclei and electron and two electrons respectively. The explicit representation of Laplacian operator is:\n",
    "\\begin{equation}\n",
    "\\boldsymbol{\\nabla}^2 = \\frac{\\partial^2}{\\partial x^2} +\\frac{\\partial^2}{\\partial y^2} \n",
    "+\\frac{\\partial^2}{\\partial z^2}\n",
    "\\end{equation}\n",
    "\n",
    "To build a Hamiltonian object, MoHa need both molecular geometry and basis object. Only instance of `Operator` class are allowed to be the element of `Hamiltonian` instances. \n",
    "\n",
    "|  Name  | Operators |Access Integral | Shape |\n",
    "|:--------:|:--------:|:------:|:------:|\n",
    "|Nuclear Repuslion| $\\sum^N_{a=1}\\sum^M_{b=1} \\frac{Z_a Z_b e^2}{\\textbf{R}_{ab}}$  | Nuc   | 1   | \n",
    "|Overlap| 1 |  S   | (nbasis,nbasis)   | \n",
    "|Kinetic| $-\\sum^N_{i=1}\\frac{\\hbar^2}{2m_i}{\\nabla}_i^2$ |  T   | (nbasis,nbasis) | \n",
    "|Nuclear Attraction| $-\\sum^N_{i=1}\\sum^M_{\\alpha=1} \\frac{Z_a e^2}{\\textbf{r}_{ia}}$ |  V   | (nbasis,nbasis) | \n",
    "|Electron Repulsion| $\\sum^N_{i=1}\\sum^N_{j>i} \\frac{e^2}{\\textbf{r}_{ij}}$   |Eri   | (nbasis,nbasis,nbasis,nbasis) |\n"
   ]
  },
  {
   "cell_type": "markdown",
   "id": "56512470",
   "metadata": {},
   "source": [
    "## Operator"
   ]
  },
  {
   "cell_type": "code",
   "execution_count": 1,
   "id": "fb8d0834",
   "metadata": {
    "scrolled": true
   },
   "outputs": [],
   "source": [
    "import numpy as np\n",
    "from moha.basis import BasisSet\n",
    "from moha.molecule import Molecule\n",
    "from moha.hamiltonian import Hamiltonian\n",
    "\n",
    "np.set_printoptions(precision=5,suppress=True)\n",
    "\n",
    "geo = [[8,   0.000000000000,  -0.143225816552,   0.000000000000],\n",
    "    ['h',   1.638036840407,   1.136548822547,  -0.000000000000],\n",
    "    [\"H\",  -1.638036840407,   1.136548822547,  -0.000000000000]]\n",
    "\n",
    "mol = Molecule.build(geo,pg=False)\n",
    "orb = BasisSet.build(mol,'sto-3g.nwchem')\n",
    "\n",
    "#ham = Hamiltonian.build(mol,orb)"
   ]
  },
  {
   "cell_type": "code",
   "execution_count": 2,
   "id": "f75f87b3",
   "metadata": {
    "scrolled": true
   },
   "outputs": [
    {
     "name": "stdout",
     "output_type": "stream",
     "text": [
      "0.03840559992856808\n",
      "1.9534002395889344e-09\n",
      "[[ 1.       0.2367   0.      -0.       0.       0.03841  0.03841]\n",
      " [ 0.2367   1.       0.       0.       0.       0.38614  0.38614]\n",
      " [ 0.       0.       1.       0.       0.       0.26844 -0.26844]\n",
      " [-0.       0.       0.       1.       0.       0.20973  0.20973]\n",
      " [ 0.       0.       0.       0.       1.       0.       0.     ]\n",
      " [ 0.03841  0.38614  0.26844  0.20973  0.       1.       0.18176]\n",
      " [ 0.03841  0.38614 -0.26844  0.20973  0.       0.18176  1.     ]]\n"
     ]
    }
   ],
   "source": [
    "# The overlap integral between two contracted Gaussian type orbital\n",
    "from moha.hamiltonian.operator.overlap import OverlapOperator\n",
    "S_operator = OverlapOperator(1)\n",
    "cga = orb[0]\n",
    "cgb = orb[6]\n",
    "print(S_operator(cga,cgb))\n",
    "\n",
    "# The overlap integral between two primitive Gaussian type orbital\n",
    "from moha.hamiltonian.integral.overlap import OverlapIntegral\n",
    "S_integral = OverlapIntegral()\n",
    "pga = orb[0].expansion[0]\n",
    "pgb = orb[6].expansion[0]\n",
    "print(S_integral(pga,pgb))\n",
    "\n",
    "\n",
    "# Build the overlap matrix\n",
    "S_matrix = OverlapOperator.build(orb)\n",
    "print(S_matrix)"
   ]
  },
  {
   "cell_type": "code",
   "execution_count": 3,
   "id": "22845b36",
   "metadata": {},
   "outputs": [
    {
     "name": "stdout",
     "output_type": "stream",
     "text": [
      "-0.008416383575885748\n",
      "-1.6851043246621013e-07\n",
      "[[29.0032  -0.16801  0.      -0.       0.      -0.00842 -0.00842]\n",
      " [-0.16801  0.80813  0.       0.       0.       0.07052  0.07052]\n",
      " [ 0.       0.       2.52873  0.       0.       0.14709 -0.14709]\n",
      " [-0.       0.       0.       2.52873  0.       0.11492  0.11492]\n",
      " [ 0.       0.       0.       0.       2.52873  0.       0.     ]\n",
      " [-0.00842  0.07052  0.14709  0.11492  0.       0.76003 -0.00398]\n",
      " [-0.00842  0.07052 -0.14709  0.11492  0.      -0.00398  0.76003]]\n"
     ]
    }
   ],
   "source": [
    "# The kinetic integral between two contracted Gaussian type orbital\n",
    "from moha.hamiltonian.operator.kinetic import KineticOperator\n",
    "T_operator = KineticOperator()\n",
    "cga = orb[0]\n",
    "cgb = orb[6]\n",
    "print(T_operator(cga,cgb))\n",
    "\n",
    "# The kinetic integral between two primitive Gaussian type orbital\n",
    "from moha.hamiltonian.integral.kinetic import KineticIntegral\n",
    "T_integral = KineticIntegral()\n",
    "pga = orb[0].expansion[0]\n",
    "pgb = orb[6].expansion[0]\n",
    "print(T_integral(pga,pgb))\n",
    "\n",
    "\n",
    "# Build the kinetic matrix\n",
    "T_matrix = KineticOperator.build(orb)\n",
    "print(T_matrix)"
   ]
  },
  {
   "cell_type": "code",
   "execution_count": 5,
   "id": "80cc7338",
   "metadata": {
    "scrolled": true
   },
   "outputs": [
    {
     "name": "stdout",
     "output_type": "stream",
     "text": [
      "-1.2316858773611623\n",
      "2.2646046488708736e-08\n",
      "[[-61.5806   -7.41082   0.       -0.01447   0.       -1.23169  -1.23169]\n",
      " [ -7.41082 -10.00907   0.       -0.17689   0.       -2.97723  -2.97723]\n",
      " [  0.        0.       -9.98755   0.        0.       -1.82224   1.82224]\n",
      " [ -0.01447  -0.17689   0.       -9.94404   0.       -1.47179  -1.47179]\n",
      " [  0.        0.        0.        0.       -9.87588   0.        0.     ]\n",
      " [ -1.23169  -2.97723  -1.82224  -1.47179   0.       -5.3002   -1.06717]\n",
      " [ -1.23169  -2.97723   1.82224  -1.47179   0.       -1.06717  -5.3002 ]]\n"
     ]
    }
   ],
   "source": [
    "# The nuclear attraction integral between two contracted Gaussian type orbital\n",
    "from moha.hamiltonian.operator.nuclear_attraction import NuclearAttractionOperator\n",
    "V_operator = NuclearAttractionOperator()\n",
    "cga = orb[0]\n",
    "cgb = orb[6]\n",
    "print(V_operator(cga,cgb,mol))\n",
    "\n",
    "# The nuclear attraction integral between two primitive Gaussian type orbital\n",
    "from moha.hamiltonian.integral.nuclear_attraction import NuclearAttractionIntegral\n",
    "V_integral = NuclearAttractionIntegral()\n",
    "pga = orb[0].expansion[0]\n",
    "pgb = orb[6].expansion[0]\n",
    "print(V_integral(pga,pgb,mol[0].coordinate))\n",
    "\n",
    "\n",
    "# Build the nuclear attraction matrix\n",
    "V_matrix = NuclearAttractionOperator.build(mol,orb)\n",
    "print(V_matrix)"
   ]
  },
  {
   "cell_type": "code",
   "execution_count": null,
   "id": "a2697414",
   "metadata": {},
   "outputs": [],
   "source": [
    "# The nuclear attraction integral between two contracted Gaussian type orbital\n",
    "from moha.hamiltonian.operator.electron_repulsion import ElectronRepulsionOperator\n",
    "Eri_operator = ElectronRepulsionOperator()\n",
    "cga = orb[0]\n",
    "cgb = orb[6]\n",
    "print(Eri_operator(cga,cgb,cga,cgb))\n",
    "\n",
    "# The nuclear attraction integral between two primitive Gaussian type orbital\n",
    "from moha.hamiltonian.integral.electron_repulsion import ElectronRepulsionIntegral\n",
    "Eri_integral = ElectronRepulsionIntegral()\n",
    "pga = orb[0].expansion[0]\n",
    "pgb = orb[6].expansion[0]\n",
    "print(V_integral(pga,pgb,pga,pgb))\n",
    "\n",
    "# Build the nuclear attraction matrix\n",
    "import time\n",
    "t1 = time.time()\n",
    "Eri_tensor = ElectronRepulsionOperator.build(orb)\n",
    "print(Eri_tensor.shape)\n",
    "t2 = time.time()\n",
    "print(t2-t1)"
   ]
  },
  {
   "cell_type": "code",
   "execution_count": null,
   "id": "1a4dffcb",
   "metadata": {},
   "outputs": [],
   "source": [
    "print(Eri_tensor[0,0,0,0])\n",
    "print(Eri_tensor[1,0,0,0])\n",
    "print(Eri_tensor[1,1,0,0])"
   ]
  },
  {
   "cell_type": "markdown",
   "id": "dbf94a74",
   "metadata": {},
   "source": [
    "## AO-MO Transformation\n",
    "\n",
    "For the Post-Hartree-Fock methods, correlation energies are usually expressed in terms of MO-basis quantities (integrals, MO energies). Thus the transformation of the one- and two-electron integrals from the AO to the MO basis representation should be implementated.\n",
    "\n",
    "With the optimized LCAO_MO coefficients, we can transform the operators from the atomic orbital basis to the molecular orbital basis.\n",
    "\n",
    "- One-electron operator transformation:\n",
    "\\begin{equation}\n",
    "h_{ij} = \\sum_{\\mu\\nu}C_{\\mu}^jC_{\\nu}^i \\langle\\phi_{\\mu}\\vert\\hat{h}\\vert\\phi_{\\nu}\\rangle\n",
    "= \\sum_{\\mu\\nu} C_{\\mu}^j C_{\\nu}^i F_{\\mu\\nu}\n",
    "\\end{equation}"
   ]
  },
  {
   "cell_type": "code",
   "execution_count": null,
   "id": "2adae9d6",
   "metadata": {},
   "outputs": [],
   "source": [
    "C = np.random((7,7))\n",
    "T_ao = ham[\"T\"]\n",
    "T_mo = np.einsum(\"up, vq, uvkl, kr, ls -> pqrs\", C, C, T_ao, C, C)"
   ]
  },
  {
   "cell_type": "markdown",
   "id": "dddb6ca3",
   "metadata": {},
   "source": [
    "- Two-electrons operator transformation:\n",
    "\\begin{equation}\n",
    "\\langle pq \\vert rs\\rangle = \\sum_{\\mu} C_{\\mu}^p \\left[\n",
    "\\sum_{\\nu} C_{\\nu}^q \\left[\n",
    "\\sum_{\\lambda} C_{\\lambda}^r \\left[\n",
    "\\sum_{\\sigma} C_{\\sigma}^s \n",
    "\\langle\\mu\\nu\\vert\\lambda\\sigma\\rangle\\right]\\right]\\right]\n",
    "\\end{equation}\n",
    "\n",
    "\n",
    "\n",
    "* nmo Number of molecular orbitals\n",
    "\n",
    "* nao Number of atomic orbitals\n",
    "\n",
    "* natm Number of atoms\n",
    "\n",
    "* nocc Number of occupied orbitals\n",
    "\n",
    "* nvir Number of virtual(unoccupied) orbitals\n",
    "\n",
    "* so Slice of occupied orbitals\n",
    "\n",
    "* sv Slice of virtual(unoccupied) orbitals\n",
    "\n",
    "* sa 全轨道分割\n",
    "\n",
    "\n",
    "C 系数矩阵 \n",
    "\n",
    "e 轨道能量 \n",
    "\n",
    "Co 占据轨道系数矩阵 \n",
    "\n",
    "Cv 未占轨道系数矩阵 \n",
    "\n",
    "eo 占据轨道能量 \n",
    "\n",
    "ev 未占轨道能量 \n",
    "\n",
    "D 密度矩阵 \n",
    "\n",
    "F_0_ao AO 基组 Fock 矩阵 \n",
    "\n",
    "F_0_mo MO 基组 Fock 矩阵  (为对角阵)\n",
    "\n",
    "H_0_ao AO 基组 Hamiltonian Core 矩阵 \n",
    "\n",
    "H_0_mo MO 基组 Hamiltonian Core 矩阵 \n",
    "\n",
    "eri0_ao AO 基组双电子互斥积分 \n",
    "\n",
    "eri0_mo MO 基组双电子互斥积分 \n",
    "\n",
    "mo_occ 轨道占据数"
   ]
  },
  {
   "cell_type": "code",
   "execution_count": null,
   "id": "7bb7c5fd",
   "metadata": {},
   "outputs": [],
   "source": [
    "C = np.random((7,7))\n",
    "eri_ao = ham[\"Eri\"]\n",
    "eri_mo = np.einsum(\"up, vq, uvkl, kr, ls -> pqrs\", C, C, eri_ao, C, C)\n",
    "print(eri)"
   ]
  }
 ],
 "metadata": {
  "kernelspec": {
   "display_name": "Python 3 (ipykernel)",
   "language": "python",
   "name": "python3"
  },
  "language_info": {
   "codemirror_mode": {
    "name": "ipython",
    "version": 3
   },
   "file_extension": ".py",
   "mimetype": "text/x-python",
   "name": "python",
   "nbconvert_exporter": "python",
   "pygments_lexer": "ipython3",
   "version": "3.10.6"
  },
  "vscode": {
   "interpreter": {
    "hash": "3b4dd1ce6c8ed31661adb8e55d1f9c30ec54ed472785ff10576acd13e5f2c743"
   }
  }
 },
 "nbformat": 4,
 "nbformat_minor": 5
}
