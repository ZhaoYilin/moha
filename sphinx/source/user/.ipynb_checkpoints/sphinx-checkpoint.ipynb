{
 "cells": [
  {
   "cell_type": "markdown",
   "id": "2939a05d",
   "metadata": {},
   "source": [
    "# Sphinx\n",
    "\n",
    "The documentation is complied using sphinx. It is a tool that makes it easy to create intelligent and beautiful documentation. Run the following command to install the Read the Docs Sphinx theme via pip:\n",
    "\n",
    "    .. code-block:: bash\n",
    "\n",
    "        python3 -m pip install --user sphinx-rtd-theme       \n",
    "\n",
    "Then, build the Html documentation by:\n",
    "\n",
    "    .. code-block:: bash\n",
    "\n",
    "        cd sphinx\n",
    "        make html\n",
    "~                                           "
   ]
  },
  {
   "cell_type": "code",
   "execution_count": null,
   "id": "75ceecad",
   "metadata": {},
   "outputs": [],
   "source": []
  }
 ],
 "metadata": {
  "kernelspec": {
   "display_name": "Python 3 (ipykernel)",
   "language": "python",
   "name": "python3"
  },
  "language_info": {
   "codemirror_mode": {
    "name": "ipython",
    "version": 3
   },
   "file_extension": ".py",
   "mimetype": "text/x-python",
   "name": "python",
   "nbconvert_exporter": "python",
   "pygments_lexer": "ipython3",
   "version": "3.10.5"
  }
 },
 "nbformat": 4,
 "nbformat_minor": 5
}
