{
 "cells": [
  {
   "cell_type": "markdown",
   "id": "2939a05d",
   "metadata": {},
   "source": [
    "# System\n",
    "The ``system`` module is the core of MoHa, and almost every MoHa calculation starts from this module. To begin a MoHa calculation, first build the Hamiltonian of a system. In terms of second quantization operators, a time-independent non-relativistic Hamiltonian gives:\n",
    "\n",
    "$$H = - \\sum_{ij} t_{ij}\\hat{c}^{\\dagger}_{i}\\hat{c}_{j} + \\frac{1}{2} \\sum_{ijkl}\n",
    "V_{ijkl}\\hat{c}^{\\dagger}_{i}\\hat{c}^{\\dagger}_{k}\\hat{c}_{l}\\hat{c}_{j}$$\n",
    "\n",
    "The construction of the molecular Hamiltonian is set in three steps.\n",
    "\n",
    "- Construct a molecular geometry.\n",
    "- Generate a basis set for the molecular.\n",
    "- Generate all kinds of operator terms with molecule and basis set to define a Hamiltonian.\n"
   ]
  },
  {
   "cell_type": "markdown",
   "id": "e8f4dc47",
   "metadata": {},
   "source": [
    "## Molecule\n",
    "A molecule is a system consisting of a nucleus and electrons. For quantum chemistry calculation in MoHa, we will always use the Born-Oppenheimer approximation, which assumes that the motion of atomic nuclei and electrons in a molecule can be separated.\n",
    "\n",
    "$$\\Psi_{molecule} = \\psi_{electronic} \\otimes \\psi_{nuclear}$$\n",
    "\n",
    "The class `Molecule` in MoHa only contains information about the nuclear. Therefore, to build a water molecule with MoHa, we can specify the molecular object by loading the molecular geometry from xyz file.\n",
    "\n",
    "The XYZ file format is a chemical file format. There is no formal standard and several variations exist, but a typical XYZ format specifies the molecule geometry by giving the number of atoms with Cartesian coordinates that will be read on the first line, a comment on the second, and the lines of atomic coordinates in the following lines.\n",
    "\n",
    "* Format\n",
    "\n",
    "The formatting of xyz is:\n",
    "\n",
    ".. code-block:: text\n",
    "\n",
    "    <number of atoms>\n",
    "    comment line\n",
    "    <element>   <X>    <Y>    <Z>\n",
    "    \\dots\n",
    "\n",
    "* Example\n",
    "\n",
    "The water molecule in the xyz format:\n",
    "\n",
    ".. code-block:: text\n",
    "\n",
    "    3\n",
    "    water\n",
    "    8   0.0000000000    -0.143225816552     0.0000000\n",
    "    1   1.638036840407  1.136548822547      -0.000000000000\n",
    "    1   -1.638036840407 1.136548822547      -0.000000000000\n",
    "\n",
    ".. code-block:: python\n",
    "\n",
    "    import moha\n",
    "\n",
    "    mol = moha.io.iogeometry.load_xyz('h2o.xyz')\n",
    "\n",
    "The first line in the xyz file is the number of atoms in the molecule, while the second line gives the name of the molecule, remaining lines give the atomic number and coordinate of each atom. In quantum chemistry, the atomic unit system is generally used, here Bohr radius (:math:`a_0` = 0.0529177nm) is taken as the unit by default.\n",
    "\n"
   ]
  },
  {
   "cell_type": "code",
   "execution_count": null,
   "id": "75ceecad",
   "metadata": {},
   "outputs": [],
   "source": []
  }
 ],
 "metadata": {
  "kernelspec": {
   "display_name": "Python 3 (ipykernel)",
   "language": "python",
   "name": "python3"
  },
  "language_info": {
   "codemirror_mode": {
    "name": "ipython",
    "version": 3
   },
   "file_extension": ".py",
   "mimetype": "text/x-python",
   "name": "python",
   "nbconvert_exporter": "python",
   "pygments_lexer": "ipython3",
   "version": "3.10.5"
  }
 },
 "nbformat": 4,
 "nbformat_minor": 5
}
