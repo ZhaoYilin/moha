{
 "cells": [
  {
   "cell_type": "markdown",
   "id": "446409d2",
   "metadata": {},
   "source": [
    "# Property\n",
    "\n",
    "This section containts information about atomic and molecular properties that can be calculated."
   ]
  },
  {
   "cell_type": "markdown",
   "id": "f1a8b352",
   "metadata": {},
   "source": [
    "## Population Analysis/Atomic Charges\n",
    "\n",
    "Population analysis is the study of charge distribution in molecules, it requires the overlap integrals and the electron density, in addition to information about the number of basis functions centered on each atom. The charge on atom A may be computed as:"
   ]
  },
  {
   "cell_type": "markdown",
   "id": "a3d3c7d1",
   "metadata": {},
   "source": [
    "### Mulliken Population Analyasis\n",
    "\n",
    "\\begin{equation}\n",
    "q_A = Z_A - 2 \\sum_{\\mu \\in A} ({\\mathbf D S})_{\\mu\\mu},\n",
    "\\end{equation}\n",
    "\n",
    "where the summation is limited to only those basis functions centered on atom A."
   ]
  },
  {
   "cell_type": "code",
   "execution_count": null,
   "id": "e249542f",
   "metadata": {},
   "outputs": [],
   "source": []
  },
  {
   "cell_type": "markdown",
   "id": "2939a05d",
   "metadata": {},
   "source": [
    "## Multipole Moment\n",
    "\n",
    "The calculation of one-electron properties requires density matrix and the relevant property integrals. The electronic contribution to the\n",
    "electric-miltipole moment may be computed using:\n",
    "\n",
    "\\begin{equation}\n",
    "{\\mu}^{klm}=-\\sum_{i}\\langle \\Psi_0|x_i^ky_i^lz_i^m|\\Psi_0 \\rangle+\\sum_A Z_Ax_A^ky_A^lz_A^m\n",
    "\\end{equation}\n",
    "\n",
    "where L = k+l+m is the angular moment\n",
    "\n",
    "In order to compute the total multipole moment, you must include the nuclear contribution, which requires the atomic numbers and Cartesian coordinates of the nuclei."
   ]
  },
  {
   "cell_type": "code",
   "execution_count": null,
   "id": "75ceecad",
   "metadata": {},
   "outputs": [],
   "source": []
  }
 ],
 "metadata": {
  "kernelspec": {
   "display_name": "Python 3 (ipykernel)",
   "language": "python",
   "name": "python3"
  },
  "language_info": {
   "codemirror_mode": {
    "name": "ipython",
    "version": 3
   },
   "file_extension": ".py",
   "mimetype": "text/x-python",
   "name": "python",
   "nbconvert_exporter": "python",
   "pygments_lexer": "ipython3",
   "version": "3.10.5"
  }
 },
 "nbformat": 4,
 "nbformat_minor": 5
}
