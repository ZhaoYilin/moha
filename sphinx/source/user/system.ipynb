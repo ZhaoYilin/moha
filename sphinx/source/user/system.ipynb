{
 "cells": [
  {
   "cell_type": "markdown",
   "id": "60d9aafe",
   "metadata": {},
   "source": [
    "# System\n",
    "\n",
    "The ``system`` module is the core of MoHa, and almost every MoHa calculation starts from this module. To begin a MoHa calculation, first build the Hamiltonian of a system. In terms of second quantization operators, a time-independent non-relativistic Hamiltonian gives:\n",
    "\\begin{equation}\n",
    "H = - \\sum_{ij} t_{ij}\\hat{c}^{\\dagger}_{i}\\hat{c}_{j} + \\frac{1}{2} \\sum_{ijkl}\n",
    "V_{ijkl}\\hat{c}^{\\dagger}_{i}\\hat{c}^{\\dagger}_{k}\\hat{c}_{l}\\hat{c}_{j}\n",
    "\\end{equation}\n",
    "\n",
    "The construction of the molecular Hamiltonian is set in three steps.\n",
    "\n",
    "- Construct a molecular geometry.\n",
    "- Generate a basis set for the molecular.\n",
    "- Generate all kinds of operator terms with molecule and basis set to define a Hamiltonian.\n"
   ]
  },
  {
   "cell_type": "markdown",
   "id": "0a1a0a8f",
   "metadata": {},
   "source": [
    "## Molecule\n",
    "\n",
    "A molecule is a system consisting of a nucleus and electrons. For quantum chemistry calculation in MoHa, we will always use the Born-Oppenheimer approximation, which assumes that the motion of atomic nuclei and electrons in a molecule can be separated.\n",
    "\\begin{equation}\n",
    "\\Psi_{molecule} = \\psi_{electronic} \\otimes \\psi_{nuclear}\n",
    "\\end{equation}\n",
    "\n",
    "The class `Molecule` in MoHa only contains information about the nuclear. In Moha package, it is a constructed as a subclass of python list, anyhow, for moha user, you can just use it as list of `Atom` instance. \n",
    "\n",
    "To build a water molecule with MoHa, "
   ]
  },
  {
   "cell_type": "code",
   "execution_count": 25,
   "id": "9671f7ea",
   "metadata": {},
   "outputs": [],
   "source": [
    "from moha.system.molecule import Molecule\n",
    "\n",
    "geo = [[8,   0.000000000000,  -0.143225816552,   0.000000000000],\n",
    "    ['h',   1.638036840407,   1.136548822547,  -0.000000000000],\n",
    "    [\"H\",  -1.638036840407,   1.136548822547,  -0.000000000000]]\n",
    "\n",
    "mol = Molecule.build(geo,pg=False)"
   ]
  },
  {
   "cell_type": "markdown",
   "id": "83984ea9",
   "metadata": {},
   "source": [
    "We can specify the essential information of a molecule by Python iterator, tuple or list, in matrix format. Each row of the geo obejct represents an atom in molecule, with first element the number or symbol of the element"
   ]
  },
  {
   "cell_type": "markdown",
   "id": "58ab9f2a",
   "metadata": {},
   "source": [
    "Another method to build the `Molecule` instance is loading the molecular geometry from .xyz file."
   ]
  },
  {
   "cell_type": "code",
   "execution_count": null,
   "id": "628d2e82",
   "metadata": {},
   "outputs": [],
   "source": [
    "from moha.system.molecule import Molecule\n",
    "\n",
    "geo = './h2o.xyz'\n",
    "\n",
    "mol = Molecule.build(geo,pg=False)"
   ]
  },
  {
   "cell_type": "markdown",
   "id": "d753ce93",
   "metadata": {},
   "source": [
    "The XYZ file format is a chemical file format. There is no formal standard and several variations exist, but a typical XYZ format specifies the molecule geometry by giving the number of atoms with Cartesian coordinates that will be read on the first line, a comment on the second, and the lines of atomic coordinates in the following lines.\n",
    "\n",
    "The formatting of xyz is:\n",
    "\n",
    "    <number of atoms>\n",
    "    comment line\n",
    "    <element>   <X>    <Y>    <Z>\n",
    "    ...         \n",
    "    \n",
    "The first line in the xyz file is the number of atoms in the molecule, while the second line gives the name of the molecule, remaining lines give the atomic number and coordinate of each atom. In quantum chemistry, the atomic unit system is generally used, here Bohr radius ($a_0$ = 0.0529177nm) is taken as the unit by default.    "
   ]
  },
  {
   "cell_type": "code",
   "execution_count": 29,
   "id": "f14e5174",
   "metadata": {},
   "outputs": [
    {
     "data": {
      "text/plain": [
       "[<moha.system.molecule.atom.Atom at 0x7ff3042427d0>,\n",
       " <moha.system.molecule.atom.Atom at 0x7ff3042435e0>,\n",
       " <moha.system.molecule.atom.Atom at 0x7ff3141bf0a0>]"
      ]
     },
     "execution_count": 29,
     "metadata": {},
     "output_type": "execute_result"
    }
   ],
   "source": [
    "mol"
   ]
  },
  {
   "cell_type": "markdown",
   "id": "7e8b0fe2",
   "metadata": {},
   "source": [
    "Only `Atom` class are allowed to be the element of `Molecule` instances. \n",
    "\n",
    "|  Atom  | number | name |symbol|coordinate|mass|\n",
    "|:--------:|:--------:|:------:|:------:|:----------:|:----:|\n",
    "|mol\\[0\\]|    8   | Oxygen | O|(0.000000,-0.143225,0.000000)|15.9994|\n",
    "|mol\\[1\\]|    1   | Hydrogen | H|(1.638036,1.136548,-0.000000)|1.007975|\n",
    "|mol\\[2\\]|    1   | Hydrogen | H|(-1.638036,1.136548,-0.000000)|1.007975|"
   ]
  },
  {
   "cell_type": "code",
   "execution_count": 26,
   "id": "22a5bd57",
   "metadata": {},
   "outputs": [
    {
     "name": "stdout",
     "output_type": "stream",
     "text": [
      "8 [0.0, -0.143225816552, 0.0]\n",
      "1 [1.638036840407, 1.136548822547, -0.0]\n",
      "1 [-1.638036840407, 1.136548822547, -0.0]\n"
     ]
    }
   ],
   "source": [
    "for atom in mol:\n",
    "    print(atom.number, atom.coordinate)"
   ]
  },
  {
   "cell_type": "markdown",
   "id": "3d63629e",
   "metadata": {},
   "source": [
    "## Basis Set\n",
    "\n",
    "MoHa supports Cartesian Gaussian type orbtial (GTO), it is an atomic orbital used in linear combinations forming molecular orbitals. Cartesian GTOs are defiend by an angular par which is homogeneous polynomial in the compoents x, y, and z of the position vector $\\mathbf{r}$. That is,\n",
    "\\begin{equation}\n",
    "G_{ijk}(r_A,\\alpha) = x^i_A y^j_A z^k_A e^{-\\alpha r^2_A}\n",
    "\\end{equation}\n",
    "\n",
    "here $r_A = r - A$ is the atom-centered function $\\alpha > 0$ is the real orbital exponent and $i+j+k = n$.\n",
    "\n",
    "MoHa use the same basis set input file as NWChem, all the available basis set file can be found in the `moha/data/examples` directory. If you need basis set more than MoHa offered, you can downloaded it from the EMSL webpage (https://bse.pnl.gov/bse/portal).\n",
    "\n",
    "STO-3G EMSL basis set of hydrogen and oxygen:"
   ]
  },
  {
   "cell_type": "markdown",
   "id": "ae5c13c1",
   "metadata": {},
   "source": [
    "    #  STO-3G  EMSL  Basis Set Exchange Library  8/21/18 3:24 AM\n",
    "    # Elements                             References\n",
    "    # --------                             ----------\n",
    "    #  H - Ne: W.J. Hehre, R.F. Stewart and J.A. Pople, J. Chem. Phys. 2657 (1969).\n",
    "    # Na - Ar: W.J. Hehre, R. Ditchfield, R.F. Stewart, J.A. Pople,\n",
    "    #          J. Chem. Phys.  2769 (1970).\n",
    "    # K,Ca - : W.J. Pietro, B.A. Levy, W.J. Hehre and R.F. Stewart,\n",
    "    # Ga - Kr: J. Am. Chem. Soc. 19, 2225 (1980).\n",
    "    # Sc - Zn: W.J. Pietro and W.J. Hehre, J. Comp. Chem. 4, 241 (1983) + Gaussian.\n",
    "    #  Y - Cd: W.J. Pietro and W.J. Hehre, J. Comp. Chem. 4, 241 (1983). + Gaussian\n",
    "    #   \n",
    "\n",
    "\n",
    "    BASIS \"ao basis\" PRINT\n",
    "    #BASIS SET: (3s) -> [1s]\n",
    "    H    S\n",
    "        3.42525091             0.15432897       \n",
    "        0.62391373             0.53532814       \n",
    "        0.16885540             0.44463454       \n",
    "    #BASIS SET: (6s,3p) -> [2s,1p]\n",
    "    O    S\n",
    "        130.7093200              0.15432897       \n",
    "        23.8088610              0.53532814       \n",
    "        6.4436083              0.44463454       \n",
    "    O    SP\n",
    "        5.0331513             -0.09996723             0.15591627       \n",
    "        1.1695961              0.39951283             0.60768372       \n",
    "        0.3803890              0.70011547             0.39195739       \n",
    "    END"
   ]
  },
  {
   "cell_type": "markdown",
   "id": "dd98d42e",
   "metadata": {},
   "source": [
    "|  Atom  | number | name |symbol|coordinate|mass|\n",
    "|:--------:|:--------:|:------:|:------:|:----------:|:----:|\n",
    "|mol\\[0\\]|    8   | Oxygen | O|(0.000000,-0.143225,0.000000)|15.9994|\n",
    "|mol\\[1\\]|    1   | Hydrogen | H|(1.638036,1.136548,-0.000000)|1.007975|\n",
    "|mol\\[2\\]|    1   | Hydrogen | H|(-1.638036,1.136548,-0.000000)|1.007975|"
   ]
  },
  {
   "cell_type": "code",
   "execution_count": 32,
   "id": "b3ca1474",
   "metadata": {},
   "outputs": [
    {
     "name": "stdout",
     "output_type": "stream",
     "text": [
      "['__add__', '__class__', '__delattr__', '__dict__', '__dir__', '__doc__', '__eq__', '__format__', '__ge__', '__getattribute__', '__gt__', '__hash__', '__init__', '__init_subclass__', '__le__', '__lt__', '__module__', '__mul__', '__ne__', '__neg__', '__new__', '__reduce__', '__reduce_ex__', '__repr__', '__rmul__', '__setattr__', '__sizeof__', '__str__', '__sub__', '__subclasshook__', '__truediv__', '__weakref__', 'coefs', 'exps', 'n', 'norm', 'origin', 'parallel', 'shell']\n"
     ]
    }
   ],
   "source": [
    "from moha.system.basis import BasisSet\n",
    "\n",
    "orb = BasisSet.build(mol,'sto-3g.nwchem')\n",
    "print(dir(orb[0][0]))"
   ]
  },
  {
   "cell_type": "markdown",
   "id": "3b8ff243",
   "metadata": {},
   "source": [
    "|  Atom  | shell | Angular momentum |Spherical part |\n",
    "|:--------:|:--------:|:------:|:------:|\n",
    "| O|    8   | Oxygen | O|\n"
   ]
  },
  {
   "cell_type": "markdown",
   "id": "25c89a4d",
   "metadata": {},
   "source": [
    "## Hamiltonian\n",
    "\n",
    "The core mechanical quantities of a chemistry system is the Hamiltonian. Hamiltonian operator should include the kinetic energy and potential energy terms of all atomic nuclei and all electrons. It is generally assumed that the molecule is in a vacuum and adiabatic state in isolation. At this time, the interaction potential energy between the nucleus and the electron in the molecule is only related to distance from each other and time independent. Its expression is:\n",
    "\\begin{equation}\n",
    "\\begin{aligned}\n",
    "\\hat{H}= &-\\sum^N_{i=1}\\frac{\\hbar^2}{2m_i}{\\nabla}_i^2\n",
    "-\\sum^N_{i=1}\\sum^M_{\\alpha=1} \\frac{Z_\\alpha e^2}{\\textbf{r}_{i\\alpha}}\\\\\n",
    "&+\\sum^N_{i=1}\\sum^N_{j>i} \\frac{e^2}{\\textbf{r}_{ij}}\n",
    "+\\sum^N_{\\alpha=1}\\sum^M_{\\beta=1} \\frac{Z_\\alpha Z_\\beta e^2}{\\textbf{R}_{\\alpha\\beta}}\n",
    "\\end{aligned}\n",
    "\\end{equation}"
   ]
  },
  {
   "cell_type": "code",
   "execution_count": 46,
   "id": "9169e941",
   "metadata": {},
   "outputs": [
    {
     "name": "stdout",
     "output_type": "stream",
     "text": [
      "0.23670394164997102\n",
      "-0.1680109429642093\n",
      "1.1189469149298004\n"
     ]
    }
   ],
   "source": [
    "from moha.system.operator.ham_operator import Overlap,Kinetic,NuclearAttraction\n",
    "\n",
    "o = Overlap()\n",
    "print(o(orb[0],orb[1]))\n",
    "\n",
    "k = Kinetic()\n",
    "print(k(orb[0],orb[1]))\n",
    "\n",
    "na = NuclearAttraction()\n",
    "\n",
    "from moha.system.operator.ham_operator import ElectronRepulsion\n",
    "eri = ElectronRepulsion()\n",
    "print(eri(orb[0],orb[0],orb[1],orb[1]))\n"
   ]
  },
  {
   "cell_type": "code",
   "execution_count": 24,
   "id": "fb8d0834",
   "metadata": {},
   "outputs": [
    {
     "data": {
      "text/plain": [
       "<function Hamiltonian.items>"
      ]
     },
     "execution_count": 24,
     "metadata": {},
     "output_type": "execute_result"
    }
   ],
   "source": [
    "ham.items"
   ]
  },
  {
   "cell_type": "markdown",
   "id": "ba611b03",
   "metadata": {},
   "source": [
    "The formula contains four terms:\n",
    "\n",
    "\n",
    "- Kinetic energy of electrons.\n",
    "\n",
    "\\begin{equation}\n",
    "\\hat{T}_e = -\\sum^N_{i=1}\\frac{\\hbar^2}{2m_i}\\boldsymbol{\\nabla}_i^2\n",
    "\\end{equation}"
   ]
  },
  {
   "cell_type": "code",
   "execution_count": 26,
   "id": "f1721788",
   "metadata": {},
   "outputs": [
    {
     "name": "stdout",
     "output_type": "stream",
     "text": [
      "[[-3.25773960e+01 -7.57883298e+00  0.00000000e+00 -1.44738362e-02\n",
      "   0.00000000e+00 -1.24010226e+00 -1.24010226e+00]\n",
      " [-7.57883298e+00 -9.20094352e+00  0.00000000e+00 -1.76890251e-01\n",
      "   0.00000000e+00 -2.90670986e+00 -2.90670986e+00]\n",
      " [ 0.00000000e+00  0.00000000e+00 -7.45881945e+00  0.00000000e+00\n",
      "   0.00000000e+00 -1.67515015e+00  1.67515015e+00]\n",
      " [-1.44738362e-02 -1.76890251e-01  0.00000000e+00 -7.41531190e+00\n",
      "   0.00000000e+00 -1.35686827e+00 -1.35686827e+00]\n",
      " [ 0.00000000e+00  0.00000000e+00  0.00000000e+00  0.00000000e+00\n",
      "  -7.34714501e+00  0.00000000e+00  0.00000000e+00]\n",
      " [-1.24010226e+00 -2.90670986e+00 -1.67515015e+00 -1.35686827e+00\n",
      "   0.00000000e+00 -4.54017103e+00 -1.07114587e+00]\n",
      " [-1.24010226e+00 -2.90670986e+00  1.67515015e+00 -1.35686827e+00\n",
      "   0.00000000e+00 -1.07114587e+00 -4.54017103e+00]]\n"
     ]
    }
   ],
   "source": [
    "kinetic = ham['Hcore']\n",
    "print(kinetic)"
   ]
  },
  {
   "cell_type": "markdown",
   "id": "9b5890b1",
   "metadata": {},
   "source": [
    "- Nuclear attraction.\n",
    "\n",
    "\\begin{equation}        \n",
    "\\hat{V}_{en} = -\\sum^N_{i=1}\\sum^M_{\\alpha=1} \\frac{Z_\\alpha e^2}{\\textbf{r}_{i\\alpha}}  \n",
    "\\end{equation}"
   ]
  },
  {
   "cell_type": "markdown",
   "id": "9685e435",
   "metadata": {},
   "source": [
    "- Repulsive between electrons.\n",
    "\n",
    "\\begin{equation}        \n",
    "\\hat{V}_{ee} = \\sum^N_{i=1}\\sum^N_{j>i} \\frac{e^2}{\\textbf{r}_{ij}}\n",
    "\\end{equation}"
   ]
  },
  {
   "cell_type": "markdown",
   "id": "49e481f9",
   "metadata": {},
   "source": [
    "* Repulsive between nuclei.\n",
    "\n",
    "\\begin{equation}        \n",
    "\\hat{V}_{nn} = \\sum^N_{\\alpha=1}\\sum^M_{\\beta=1} \\frac{Z_\\alpha Z_\\beta e^2}{\\textbf{R}_{\\alpha\\beta}} \n",
    "\\end{equation}\n",
    "\n",
    "$m_i$ is the mass of electron. $M_\\alpha$ and $Z_\\alpha$ refer to the mass and charge of atomic nucleus. $R_{\\alpha\\beta}$, $r_{i\\alpha}$ and $r_{ij}$ is the distance between two nucleus, atomic nuclei and electron and two electrons respectively. The explicit representation of Laplacian operator is:\n",
    "\\begin{equation}\n",
    "\\boldsymbol{\\nabla}^2 = \\frac{\\partial^2}{\\partial x^2} +\\frac{\\partial^2}{\\partial y^2} \n",
    "+\\frac{\\partial^2}{\\partial z^2}\n",
    "\\end{equation}\n",
    "\n",
    "To build a Hamiltonian object, MoHa need both molecular geometry and basis object."
   ]
  },
  {
   "cell_type": "markdown",
   "id": "a8cf7669",
   "metadata": {},
   "source": [
    "Hamiltonian object has attributes of different operators use the following conventions for variable names. The following are defined by setting up the Hamiltonian by default:"
   ]
  },
  {
   "cell_type": "code",
   "execution_count": 27,
   "id": "db612a89",
   "metadata": {},
   "outputs": [
    {
     "name": "stdout",
     "output_type": "stream",
     "text": [
      "(7, 7, 7, 7)\n"
     ]
    }
   ],
   "source": [
    "electron_repuslion = ham['Eri']\n",
    "print(electron_repuslion.shape)"
   ]
  },
  {
   "cell_type": "markdown",
   "id": "3289f4d1",
   "metadata": {},
   "source": [
    "They offer the key ingredient for the following calculations."
   ]
  },
  {
   "cell_type": "markdown",
   "id": "ca71b2e1",
   "metadata": {},
   "source": [
    "## Wave Function \n",
    "\n",
    "Hamiltonian object has attributes of different operators use the following conventions for variable names. The following are defined by setting up the Hamiltonian by default:\n"
   ]
  },
  {
   "cell_type": "code",
   "execution_count": null,
   "id": "ae9fed26",
   "metadata": {},
   "outputs": [],
   "source": []
  }
 ],
 "metadata": {
  "kernelspec": {
   "display_name": "Python 3 (ipykernel)",
   "language": "python",
   "name": "python3"
  },
  "language_info": {
   "codemirror_mode": {
    "name": "ipython",
    "version": 3
   },
   "file_extension": ".py",
   "mimetype": "text/x-python",
   "name": "python",
   "nbconvert_exporter": "python",
   "pygments_lexer": "ipython3",
   "version": "3.10.5"
  }
 },
 "nbformat": 4,
 "nbformat_minor": 5
}
