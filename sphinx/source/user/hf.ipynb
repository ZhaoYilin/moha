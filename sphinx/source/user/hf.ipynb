{
 "cells": [
  {
   "cell_type": "markdown",
   "id": "2939a05d",
   "metadata": {},
   "source": [
    "# Hartree-Fock\n",
    "\n",
    "The Hartree-Fock method is an uncorrelated mean-field theory that offers a qualitative description of chemical systems. Although Hartree-Fock theory is only qualitatively correct, it forms the basis for more accurate models and becomes the cornerstone of ab initio quantum chemistry.\n",
    "\n",
    "Hartree-Fock method assumes that the ground state wave function $\\vert\\Phi_0\\rangle$ is an antisymmetrized product state with a single-electron orbital basis $\\{\\phi_i\\}$. It is often represented by a single Slater determinant:\n",
    "\n",
    "\\begin{equation}\n",
    "\\Phi_0(x_1,x_2,\\dots,x_N) = \\frac{1}{(\\sqrt{N!})}\n",
    "\\begin{vmatrix}\n",
    "\\phi_1(x_1) & \\phi_2(x_1) & \\dots & \\phi_N(x_1) \\\\\n",
    "\\phi_1(x_2) & \\phi_2(x_2) & \\dots & \\phi_N(x_2) \\\\\n",
    "\\vdots      & \\vdots      & \\dots & \\vdots \\\\\n",
    "\\phi_1(x_N) & \\phi_2(x_N) & \\dots & \\phi_N(x_N) \\\\\n",
    "\\end{vmatrix}\n",
    "\\end{equation}\n",
    "\n",
    "To optimize the Hartree-Fock wave function, we invoke the variation principle to minimize the expectation value of the energy:\n",
    "\n",
    "\\begin{equation}\n",
    "E_{HF} = \\mathop{min}\\limits_{\\{\\phi_i\\}}^{} \\langle\\Phi_0\\vert\\hat{H}\\vert\\Phi_0\\rangle\n",
    "\\end{equation}\n",
    "\n",
    "The minimization of the expected energy with a given basis set leads to the Roothan-Hartree-Fock equation:\n",
    "\n",
    "\\begin{equation}\n",
    "\\mathbf{F(C)C} = \\mathbf{SC\\epsilon}\n",
    "\\end{equation}\n",
    "\n",
    "where $\\mathbf{S}$ is the overlap matrix with atomic basis set, $\\mathbf{C}$ is the matrix of molecular orbital coefficients, $\\mathbf{\\epsilon}$ is a diagonal matrix whose elements represent the eigenenergies, and the $\\mathbf{F}$ is the Fock matrix, which depends on the coefficients matrix $\\mathbf{C}$.\n",
    "\n",
    "The Fock matrix $\\mathbf{F}$ is:\n",
    "\n",
    "\\begin{equation}\n",
    "\\mathbf{F(C)} = \\mathbf{H} + \\mathbf{G(C)}\n",
    "\\end{equation}\n",
    "\n",
    "$\\mathbf{H}$ is the core-Hamiltonian matrix, and it is the sum of kinetic energy integral $\\mathbf{T}$ and electron-nuclear attraction integral $\\mathbf{V}$. Both are one-electron integral and invariance during the self-consistent field optimization.\n",
    "\n",
    "\\begin{equation}\n",
    "\\mathbf{H} = \\mathbf{T} + \\mathbf{V}\n",
    "\\end{equation}\n",
    "\n",
    "$\\mathbf{G}$ is Hartree-Fock potential matrix, and it is the sum of coulomb matrix $\\mathbf{J}$ and the exchange matrix $\\mathbf{K}$. Both of them are two-electron integral matrix and is a function of $\\mathbf{C}$.\n",
    "\n",
    "\\begin{equation}\n",
    "\\mathbf{G(C)} = \\mathbf{J(C)} + \\mathbf{K(C)}\n",
    "\\end{equation}\n",
    "\n",
    "Hartree-Fock energy is an upper bound to the exact energy using the variational theorem. It typically gives errors of $0.5\\%$ in the energy, $1\\%$ in molecular geometry, and $5−10\\%$ in other properties. The correlation energy is the difference between the Hartree-Fock limit energy and a system's exact non-relativistic energy.\n",
    "\n",
    "\\begin{equation}\n",
    "\\begin{aligned}\n",
    "E_{HF} &\\geq E_{exact}\\\\\n",
    "E_{corr} &= E_{exact} - E_{HF}\n",
    "\\end{aligned}\n",
    "\\end{equation}"
   ]
  },
  {
   "cell_type": "markdown",
   "id": "0b5060ab",
   "metadata": {},
   "source": [
    "## Plain Solver\n",
    "\n",
    "\n",
    "Since the Hartree-Fock-Roothaan equations are nonlinear, we will solve them with an iterative procedure. Such a procedure is often referred to as a self-consistent field (SCF) algorithm, and here we introduce the most naive one."
   ]
  },
  {
   "cell_type": "code",
   "execution_count": 1,
   "id": "07d5a8b0",
   "metadata": {
    "scrolled": true
   },
   "outputs": [
    {
     "name": "stdout",
     "output_type": "stream",
     "text": [
      "-74.94207993214405\n"
     ]
    }
   ],
   "source": [
    "from moha import *\n",
    "import numpy as np\n",
    "from moha.basis import BasisSet\n",
    "from moha.molecule import Molecule\n",
    "from moha.hamiltonian import Hamiltonian\n",
    "\n",
    "np.set_printoptions(precision=5,suppress=True)\n",
    "\n",
    "geo = [[8,  0.000000000000,  -0.143225816552,  0.000000000000],\n",
    "    ['h',   1.638036840407,   1.136548822547,  -0.000000000000],\n",
    "    [\"H\",  -1.638036840407,   1.136548822547,  -0.000000000000]]\n",
    "\n",
    "mol = Molecule.build(geo,pg=False)\n",
    "orb = BasisSet.build(mol,'sto-3g.nwchem')\n",
    "\n",
    "ham = Hamiltonian.build(mol,orb)\n",
    "\n",
    "sym = Symmetry(n=10,ms2=0,ipg=0)\n",
    "\n",
    "hf_solver = HFSolver(ham,sym)\n",
    "hf_energy,hf_wfn = hf_solver.rhf()\n",
    "\n",
    "print(hf_energy+mol.e_nuc)"
   ]
  },
  {
   "cell_type": "code",
   "execution_count": 2,
   "id": "0c52162e",
   "metadata": {},
   "outputs": [
    {
     "name": "stdout",
     "output_type": "stream",
     "text": [
      "[[ 0.       0.       0.05079  0.       0.       0.00223 -0.00223]\n",
      " [ 0.       0.       0.64117  0.       0.       0.26274 -0.26274]\n",
      " [ 0.05079  0.64117  0.       0.       0.       0.43763  0.43763]\n",
      " [ 0.       0.       0.       0.       0.       0.1474  -0.1474 ]\n",
      " [ 0.       0.       0.       0.       0.       0.       0.     ]\n",
      " [ 0.00223  0.26274  0.43763  0.1474   0.       1.63804 -0.     ]\n",
      " [-0.00223 -0.26274  0.43763 -0.1474   0.      -0.      -1.63804]]\n",
      "[[-0.14323 -0.0339   0.       0.05079  0.      -0.00376 -0.00376]\n",
      " [-0.0339  -0.14323  0.       0.64117  0.       0.14997  0.14997]\n",
      " [ 0.       0.      -0.14323  0.       0.       0.10895 -0.10895]\n",
      " [ 0.05079  0.64117  0.       0.       0.       0.33409  0.33409]\n",
      " [ 0.       0.       0.       0.      -0.14323  0.       0.     ]\n",
      " [-0.00376  0.14997  0.10895  0.33409  0.       1.13655  0.20658]\n",
      " [-0.00376  0.14997 -0.10895  0.33409  0.       0.20658  1.13655]]\n",
      "[[0.      0.      0.      0.      0.05079 0.      0.     ]\n",
      " [0.      0.      0.      0.      0.64117 0.      0.     ]\n",
      " [0.      0.      0.      0.      0.      0.      0.     ]\n",
      " [0.      0.      0.      0.      0.      0.      0.     ]\n",
      " [0.05079 0.64117 0.      0.      0.      0.24897 0.24897]\n",
      " [0.      0.      0.      0.      0.24897 0.      0.     ]\n",
      " [0.      0.      0.      0.      0.24897 0.      0.     ]]\n",
      "{'success': True, 'mms': [3.774758283725532e-15, 1.8132045497456852, 2.3419308123748788e-30]}\n"
     ]
    }
   ],
   "source": [
    "from moha.property.multipole_moment import Moment\n",
    "\n",
    "mm_results = Moment(mol,orb,hf_wfn).dipole()\n",
    "print(mm_results)"
   ]
  },
  {
   "cell_type": "code",
   "execution_count": null,
   "id": "2d7027f8",
   "metadata": {},
   "outputs": [],
   "source": []
  }
 ],
 "metadata": {
  "kernelspec": {
   "display_name": "Python 3 (ipykernel)",
   "language": "python",
   "name": "python3"
  },
  "language_info": {
   "codemirror_mode": {
    "name": "ipython",
    "version": 3
   },
   "file_extension": ".py",
   "mimetype": "text/x-python",
   "name": "python",
   "nbconvert_exporter": "python",
   "pygments_lexer": "ipython3",
   "version": "3.10.6"
  },
  "vscode": {
   "interpreter": {
    "hash": "3b4dd1ce6c8ed31661adb8e55d1f9c30ec54ed472785ff10576acd13e5f2c743"
   }
  }
 },
 "nbformat": 4,
 "nbformat_minor": 5
}
