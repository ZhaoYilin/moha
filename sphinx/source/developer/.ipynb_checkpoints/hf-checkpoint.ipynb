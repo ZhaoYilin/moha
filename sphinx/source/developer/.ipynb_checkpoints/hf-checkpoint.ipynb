{
 "cells": [
  {
   "cell_type": "markdown",
   "id": "2939a05d",
   "metadata": {},
   "source": [
    "# Hartree-Fock\n",
    "\n",
    "The Hartree-Fock method is an uncorrelated mean-field theory that offers a qualitative description of chemical systems. Although Hartree-Fock theory is only qualitatively correct, it forms the basis for more accurate models and becomes the cornerstone of ab initio quantum chemistry.\n",
    "\n",
    "Hartree-Fock method assumes that the ground state wave function $\\vert\\Phi_0\\rangle$ is an antisymmetrized product state with a single-electron orbital basis $\\{\\phi_i\\}$. It is often represented by a single Slater determinant:\n",
    "\n",
    "\\begin{equation}\n",
    "\\Phi_0(x_1,x_2,\\dots,x_N) = \\frac{1}{(\\sqrt{N!})}\n",
    "\\begin{vmatrix}\n",
    "\\phi_1(x_1) & \\phi_2(x_1) & \\dots & \\phi_N(x_1) \\\\\n",
    "\\phi_1(x_2) & \\phi_2(x_2) & \\dots & \\phi_N(x_2) \\\\\n",
    "\\vdots      & \\vdots      & \\dots & \\vdots \\\\\n",
    "\\phi_1(x_N) & \\phi_2(x_N) & \\dots & \\phi_N(x_N) \\\\\n",
    "\\end{vmatrix}\n",
    "\\end{equation}\n",
    "\n",
    "To optimize the Hartree-Fock wave function, we invoke the variation principle to minimize the expectation value of the energy:\n",
    "\n",
    "\\begin{equation}\n",
    "E_{HF} = \\mathop{min}\\limits_{\\{\\phi_i\\}}^{} \\langle\\Phi_0\\vert\\hat{H}\\vert\\Phi_0\\rangle\n",
    "\\end{equation}\n",
    "\n",
    "The minimization of the expected energy with a given basis set leads to the Roothan-Hartree-Fock equation:\n",
    "\n",
    "\\begin{equation}\n",
    "\\mathbf{F(C)C} = \\mathbf{SC\\epsilon}\n",
    "\\end{equation}\n",
    "\n",
    "where $\\mathbf{S}$ is the overlap matrix with atomic basis set, $\\mathbf{C}$ is the matrix of molecular orbital coefficients, $\\mathbf{\\epsilon}$ is a diagonal matrix whose elements represent the eigenenergies, and the $\\mathbf{F}$ is the Fock matrix, which depends on the coefficients matrix $\\mathbf{C}$.\n",
    "\n",
    "The Fock matrix $\\mathbf{F}$ is:\n",
    "\n",
    "\\begin{equation}\n",
    "\\mathbf{F(C)} = \\mathbf{H} + \\mathbf{G(C)}\n",
    "\\end{equation}\n",
    "\n",
    "$\\mathbf{H}$ is the core-Hamiltonian matrix, and it is the sum of kinetic energy integral $\\mathbf{T}$ and electron-nuclear attraction integral $\\mathbf{V}$. Both are one-electron integral and invariance during the self-consistent field optimization.\n",
    "\n",
    "\\begin{equation}\n",
    "\\mathbf{H} = \\mathbf{T} + \\mathbf{V}\n",
    "\\end{equation}\n",
    "\n",
    "$\\mathbf{G}$ is Hartree-Fock potential matrix, and it is the sum of coulomb matrix $\\mathbf{J}$ and the exchange matrix $\\mathbf{K}$. Both of them are two-electron integral matrix and is a function of $\\mathbf{C}$.\n",
    "\n",
    "\\begin{equation}\n",
    "\\mathbf{G(C)} = \\mathbf{J(C)} + \\mathbf{K(C)}\n",
    "\\end{equation}\n",
    "\n",
    "Hartree-Fock energy is an upper bound to the exact energy using the variational theorem. It typically gives errors of $0.5\\%$ in the energy, $1\\%$ in molecular geometry, and $5−10\\%$ in other properties. The correlation energy is the difference between the Hartree-Fock limit energy and a system's exact non-relativistic energy.\n",
    "\n",
    "\\begin{equation}\n",
    "\\begin{aligned}\n",
    "E_{HF} &\\geq E_{exact}\\\\\n",
    "E_{corr} &= E_{exact} - E_{HF}\n",
    "\\end{aligned}\n",
    "\\end{equation}"
   ]
  },
  {
   "cell_type": "markdown",
   "id": "0b5060ab",
   "metadata": {},
   "source": [
    "## Restricted Hartree-Fock\n",
    "\n",
    "Since the Hartree-Fock-Roothaan equations are nonlinear, we will solve them with an iterative procedure. Such a procedure is often referred to as a self-consistent field (SCF) algorithm, and here we introduce the most naive one."
   ]
  },
  {
   "cell_type": "code",
   "execution_count": 2,
   "id": "23b5ab8a",
   "metadata": {
    "scrolled": true
   },
   "outputs": [],
   "source": [
    "import numpy as np\n",
    "from moha.basis import BasisSet\n",
    "from moha.molecule import Molecule\n",
    "from moha.hamiltonian import Hamiltonian\n",
    "\n",
    "np.set_printoptions(precision=5,suppress=True)\n",
    "\n",
    "geo = [[8,  0.000000000000,  -0.143225816552,  0.000000000000],\n",
    "    ['h',   1.638036840407,   1.136548822547,  -0.000000000000],\n",
    "    [\"H\",  -1.638036840407,   1.136548822547,  -0.000000000000]]\n",
    "\n",
    "mol = Molecule.build(geo,pg=False)\n",
    "orb = BasisSet.build(mol,'sto-3g.nwchem')\n",
    "\n",
    "ham = Hamiltonian.build(mol,orb)"
   ]
  },
  {
   "cell_type": "code",
   "execution_count": 10,
   "id": "6493b623",
   "metadata": {},
   "outputs": [],
   "source": [
    "natm = len(mol)\n",
    "nmo = nao = len(orb)\n",
    "ndocc = 5\n",
    "so = slice(0, ndocc)"
   ]
  },
  {
   "cell_type": "markdown",
   "id": "fde23338",
   "metadata": {},
   "source": [
    "### Step 1: Build The Integral\n",
    "\n",
    "The pre-computed quantities for the SCF algorithm include:\n",
    "\n",
    "- One-electron integrals overlap $\\mathbf{S}$, kinetic energy $\\mathbf{T}$, and nuclear attraction $\\mathbf{V}$.\n",
    "\n",
    "- Two-electron integral, the electron repulsion :$(\\mu\\nu\\vert\\lambda\\sigma)$.\n",
    "\n",
    "Please check out the :ref:`Hamiltonian <Hamiltonian>` section for further information to learn more about the pre-computed quantities."
   ]
  },
  {
   "cell_type": "code",
   "execution_count": 1,
   "id": "497c42fe",
   "metadata": {},
   "outputs": [
    {
     "ename": "NameError",
     "evalue": "name 'ham' is not defined",
     "output_type": "error",
     "traceback": [
      "\u001b[0;31m---------------------------------------------------------------------------\u001b[0m",
      "\u001b[0;31mNameError\u001b[0m                                 Traceback (most recent call last)",
      "Input \u001b[0;32mIn [1]\u001b[0m, in \u001b[0;36m<cell line: 1>\u001b[0;34m()\u001b[0m\n\u001b[0;32m----> 1\u001b[0m S \u001b[38;5;241m=\u001b[39m ham[\u001b[38;5;124m\"\u001b[39m\u001b[38;5;124mS\u001b[39m\u001b[38;5;124m\"\u001b[39m]\n\u001b[1;32m      2\u001b[0m Hcore \u001b[38;5;241m=\u001b[39m ham[\u001b[38;5;124m\"\u001b[39m\u001b[38;5;124mT\u001b[39m\u001b[38;5;124m\"\u001b[39m] \u001b[38;5;241m+\u001b[39m ham[\u001b[38;5;124m\"\u001b[39m\u001b[38;5;124mV\u001b[39m\u001b[38;5;124m\"\u001b[39m]\n\u001b[1;32m      3\u001b[0m Eri \u001b[38;5;241m=\u001b[39m ham[\u001b[38;5;124m\"\u001b[39m\u001b[38;5;124mEri\u001b[39m\u001b[38;5;124m\"\u001b[39m]\n",
      "\u001b[0;31mNameError\u001b[0m: name 'ham' is not defined"
     ]
    }
   ],
   "source": [
    "S = ham[\"S\"]\n",
    "Hcore = ham[\"T\"] + ham[\"V\"]\n",
    "Eri = ham[\"Eri\"]\n",
    "print(S)\n",
    "print(Hcore)\n",
    "print(Eri.shape)"
   ]
  },
  {
   "cell_type": "markdown",
   "id": "f0a3072c",
   "metadata": {},
   "source": [
    "### Step 2: Build the Orthogonalization Matrix\n",
    "\n",
    "Hartree-Fock algorithm must be optimized with the constraint that the orbitals are orthonormal,\n",
    "\\begin{equation}\n",
    "\\langle \\phi_i \\vert \\phi_j \\rangle = \\delta_{ij}\n",
    "\\end{equation}\n",
    "\n",
    "The atomic orbitals are, in general, not orthonormal. Hence we bring the orthogonalization matrix into the algorithm to make,\n",
    "\\begin{equation}\n",
    "\\mathbf{X^{\\dagger}SX} = \\mathbf{I}\n",
    "\\end{equation}\n",
    "\n",
    "where $\\mathbf{X}$ is the orthogonalization matrix, and $\\mathbf{I}$ is the density matrix.\n",
    "\n",
    "The orthogonalization matrix $\\mathbf{X}$ can be constructed from the overlap matrix $\\mathbf{S}$ by diagonalization:\n",
    "\\begin{equation}\n",
    "\\mathbf{s} = \\mathbf{USU}^{\\dagger}\n",
    "\\end{equation}\n",
    "\n",
    "where $\\mathbf{s}$ are eigenvalues of the overlap matrix $\\mathbf{S}$, further $\\mathbf{U}$ is a matrix of the eigenvector of the overlap matrix $\\mathbf{S}$.\n",
    "\n",
    "The construction of orthogonalization matrix $\\mathbf{X}$ is not unitary, and there are two ways of orthogonalization are most frequently used.\n",
    "\n",
    "The first one, called symmetric orthogonalization:\n",
    "\\begin{equation}\n",
    "\\mathbf{X} = \\mathbf{S}^{-1/2} = \\mathbf{Us}^{-1/2}\\mathbf{U}^{\\dagger}\n",
    "\\end{equation}\n",
    "\n",
    "The second way is canonical orthogonalization:\n",
    "\\begin{equation}\n",
    "\\mathbf{X} = \\mathbf{Us}^{-1/2}\n",
    "\\end{equation}"
   ]
  },
  {
   "cell_type": "code",
   "execution_count": 2,
   "id": "a6d7a7c0",
   "metadata": {},
   "outputs": [
    {
     "ename": "NameError",
     "evalue": "name 'np' is not defined",
     "output_type": "error",
     "traceback": [
      "\u001b[0;31m---------------------------------------------------------------------------\u001b[0m",
      "\u001b[0;31mNameError\u001b[0m                                 Traceback (most recent call last)",
      "Input \u001b[0;32mIn [2]\u001b[0m, in \u001b[0;36m<cell line: 1>\u001b[0;34m()\u001b[0m\n\u001b[0;32m----> 1\u001b[0m val, vec \u001b[38;5;241m=\u001b[39m np\u001b[38;5;241m.\u001b[39mlinalg\u001b[38;5;241m.\u001b[39meig(S)\n\u001b[1;32m      2\u001b[0m val_minus_half \u001b[38;5;241m=\u001b[39m (np\u001b[38;5;241m.\u001b[39mdiag(val\u001b[38;5;241m*\u001b[39m\u001b[38;5;241m*\u001b[39m(\u001b[38;5;241m-\u001b[39m\u001b[38;5;241m0.5\u001b[39m)))\n\u001b[1;32m      3\u001b[0m X \u001b[38;5;241m=\u001b[39m np\u001b[38;5;241m.\u001b[39mdot(vec,np\u001b[38;5;241m.\u001b[39mdot(val_minus_half,np\u001b[38;5;241m.\u001b[39mtranspose(vec)))\n",
      "\u001b[0;31mNameError\u001b[0m: name 'np' is not defined"
     ]
    }
   ],
   "source": [
    "val, vec = np.linalg.eig(S)\n",
    "val_minus_half = (np.diag(val**(-0.5)))\n",
    "X = np.dot(vec,np.dot(val_minus_half,np.transpose(vec)))\n",
    "print(X)"
   ]
  },
  {
   "cell_type": "markdown",
   "id": "74f1bd37",
   "metadata": {},
   "source": [
    "### Step 3: Set the Initial Guess\n",
    "\n",
    "The SCF iterations require an initial guess of the coefficients matrix. As the naive solver, we give zero matrices as the initial guess by default,\n",
    "\\begin{equation}\n",
    "\\mathbf{C}_0 = \\mathbf{0}\n",
    "\\end{equation}\n",
    "\n",
    "The naive initial guess of coeffiences matrix $\\mathbf{C}_0$ results in zero matrix as $\\mathbf{D}_0$ and core-Hamiltonian as initial Fock matrix:\n",
    "\n",
    "\\begin{equation}\n",
    "\\mathbf{D}_0 = \\mathbf{0}\n",
    "\\end{equation}\n",
    "\n",
    "\\begin{equation}    \n",
    "\\mathbf{F}_0 = \\mathbf{H}_{core} + \\mathbf{G}(\\mathbf{0}) = \\mathbf{H}_{core}\n",
    "\\end{equation}    "
   ]
  },
  {
   "cell_type": "code",
   "execution_count": 30,
   "id": "9cf12478",
   "metadata": {},
   "outputs": [
    {
     "name": "stdout",
     "output_type": "stream",
     "text": [
      "[[ 1.06501 -0.28522 -0.      -0.01955 -0.       0.03345  0.03345]\n",
      " [-0.28522  1.24897  0.       0.11356  0.      -0.14428 -0.14428]\n",
      " [-0.       0.       1.12587  0.       0.      -0.14613  0.14613]\n",
      " [-0.01955  0.11356  0.       1.06606  0.      -0.09936 -0.09936]\n",
      " [-0.       0.       0.       0.       1.      -0.       0.     ]\n",
      " [ 0.03345 -0.14428 -0.14613 -0.09936 -0.       0.04268  0.00475]\n",
      " [ 0.03345 -0.14428  0.14613 -0.09936  0.       0.00475  0.04268]]\n"
     ]
    }
   ],
   "source": [
    "#Initial guess of density matrix\n",
    "Fp = X.dot(Hcore).dot(X)\n",
    "Emo, Cp = np.linalg.eigh(Fp)\n",
    "C = X.dot(Cp)\n",
    "D = np.einsum('pi,qi->pq', C[:,so], C[:,so])\n",
    "print(D)"
   ]
  },
  {
   "cell_type": "markdown",
   "id": "d76849f7",
   "metadata": {},
   "source": [
    "### Step 4: Calculate density matrix from Fock matrix\n",
    "\n",
    "To calculate the new density matrix $\\mathbf{D}_i$ (i denotes the current iteration number), first bring the Fock matrix $\\mathbf{F}_{i-1}$ into the orthogonal basis, and we get the transformed Fock matrix $\\mathbf{F}^{\\prime}_{i-1}$:\n",
    "\\begin{equation}\n",
    "\\mathbf{F}^{\\prime}_{i-1} = \\mathbf{X}^T \\mathbf{F}_{i-1} \\mathbf{X}\n",
    "\\end{equation}\n",
    "\n",
    "The transformed Fock matrix $\\mathbf{F}^{\\prime}_{i-1}$ is then diagonalized:\n",
    "\\begin{equation}\n",
    "\\mathbf{F}^{\\prime}_{i-1} \\mathbf{C}^{\\prime}_{i} = \\mathbf{C}^{\\prime}_{i} \\mathbf{\\epsilon}_i\n",
    "\\end{equation}\n",
    "\n",
    "Back-transform:\n",
    "\\begin{equation}\n",
    "\\mathbf{C}_i = \\mathbf{X}\\mathbf{C}^{\\prime}_i\n",
    "\\end{equation}\n",
    "\n",
    "Calculate the density matrix:\n",
    "\\begin{equation}\n",
    "\\mathbf{D}_i = \\mathbf{C}_{i} \\mathbf{n} \\mathbf{C}^{\\dagger}_{i} \n",
    "\\end{equation}\n",
    "\n",
    "where $\\mathbf{n}$ is the electron occupation matrix."
   ]
  },
  {
   "cell_type": "code",
   "execution_count": 33,
   "id": "f1bac3f8",
   "metadata": {},
   "outputs": [
    {
     "name": "stdout",
     "output_type": "stream",
     "text": [
      "[[ 1.06715 -0.31671  0.00045 -0.04057  0.       0.08025  0.08042]\n",
      " [-0.31671  1.01638 -0.00287 -0.31206  0.      -0.04441 -0.06556]\n",
      " [ 0.00045 -0.00287  0.14314  0.01164  0.       0.22987 -0.23143]\n",
      " [-0.04057 -0.31206  0.01164  0.49648 -0.       0.26671  0.25954]\n",
      " [ 0.       0.       0.      -0.       1.       0.      -0.     ]\n",
      " [ 0.08025 -0.04441  0.22987  0.26671  0.       0.53368 -0.19365]\n",
      " [ 0.08042 -0.06556 -0.23143  0.25954 -0.      -0.19365  0.56769]]\n"
     ]
    }
   ],
   "source": [
    "Fp = X.dot(F).dot(X)\n",
    "Emo, Cp = np.linalg.eigh(Fp)\n",
    "C = X.dot(Cp)\n",
    "D = np.einsum('pi,qi->pq', C[:,so], C[:,so])\n",
    "print(D)"
   ]
  },
  {
   "cell_type": "markdown",
   "id": "00a0cbc3",
   "metadata": {},
   "source": [
    "### Step 5: Calculate Fock matrix from density matrix\n",
    "\n",
    "With the new density matrix $\\mathbf{D}_i$, we can compute the current iteration Fock matrix $\\mathbf{F}_i$ by:\n",
    "\\begin{equation}\n",
    "\\mathbf{F}_{i,\\mu\\nu} = \\mathbf{h}_{\\mu\\nu} \n",
    "+\\sum_{\\sigma,\\tau} (2\\langle\\mu\\sigma\\vert\\vert\\nu\\tau\\rangle−\\langle\\mu\\sigma\\vert\\vert\\nu\\tau\\rangle)\\mathbf{D}_{i,\\sigma\\tau}\n",
    "\\end{equation}"
   ]
  },
  {
   "cell_type": "code",
   "execution_count": 16,
   "id": "ca72c5e9",
   "metadata": {},
   "outputs": [
    {
     "name": "stdout",
     "output_type": "stream",
     "text": [
      "[[-16.32185  -0.35344  -0.       -0.04631  -0.       -0.88862  -0.88874]\n",
      " [ -0.35344   0.0752   -0.00001  -0.18099   0.       -0.40043  -0.39859]\n",
      " [ -0.       -0.00001   1.26277  -0.00001  -0.       -0.01568   0.01466]\n",
      " [ -0.04631  -0.18099  -0.00001   1.31005   0.       -0.06179  -0.06104]\n",
      " [ -0.        0.       -0.        0.        1.38232   0.       -0.     ]\n",
      " [ -0.88862  -0.40043  -0.01568  -0.06179   0.        0.06937  -0.11948]\n",
      " [ -0.88874  -0.39859   0.01466  -0.06104  -0.       -0.11948   0.09169]]\n"
     ]
    }
   ],
   "source": [
    "J = np.einsum('pqrs,rs->pq', Eri, D)\n",
    "K = np.einsum('prqs,rs->pq', Eri, D)\n",
    "F = Hcore + 2*J - K\n",
    "print(F)"
   ]
  },
  {
   "cell_type": "markdown",
   "id": "6da6f419",
   "metadata": {},
   "source": [
    "### Step 6: Self-consistency check converagence\n",
    "\n",
    "Repeat steps 4 and 5, compares the change of electronic energy and-or the root-mean-squared difference (RMSD) of the density matrix between two iterations. Furthermore, the above SCF procedure will stop at certain thresholds.\n",
    "\n",
    "The change in the electronic energy and RMSD of the density matrix can be found as:\n",
    "\\begin{equation}\n",
    "\\begin{aligned}\n",
    "\\Delta E_{i,elec} &= E_{i,elec} - E_{i-1,elec} \\leqslant \\sigma_1\\\\\n",
    "RMSD_i &= \\sqrt{\\sum_{\\mu\\nu} D_{i,\\mu\\nu}−D_{i−1,\\mu\\nu}} \\leqslant \\sigma_2\n",
    "\\end{aligned}\n",
    "\\end{equation}"
   ]
  },
  {
   "cell_type": "code",
   "execution_count": 22,
   "id": "4d12cd7b",
   "metadata": {},
   "outputs": [],
   "source": [
    "#Store initial value of electronic energy and density matrix\n",
    "Dold = D\n",
    "Eold = np.einsum('pq,pq->', 2*Hcore, D)\n",
    "\n",
    "I_thld = 50\n",
    "E_thld = 10e-6\n",
    "D_thld = 10e-6\n",
    "\n",
    "for Iter in range(1,I_thld+1):\n",
    "    #Update Fock matrix\n",
    "    J = np.einsum('pqrs,rs->pq', Eri, D)\n",
    "    K = np.einsum('prqs,rs->pq', Eri, D)\n",
    "    F = Hcore + 2*J - K\n",
    "\n",
    "    #Update density matrix\n",
    "    Fp = X.dot(F).dot(X)\n",
    "    Emo, Cp = np.linalg.eigh(Fp)\n",
    "    C = X.dot(Cp)\n",
    "    D = np.einsum('pi,qi->pq', C[:,:ndocc], C[:,:ndocc])\n",
    "\n",
    "    #Update electronic energy\n",
    "    E = np.einsum('pq,pq->', F + Hcore, D)\n",
    "\n",
    "    #Update convergence\n",
    "    dE = abs(E-Eold)\n",
    "    dRMS = np.mean((D-Dold)**2)**0.5\n",
    "\n",
    "    #Store Updated electronic energy and density matrix\n",
    "    Dold = D\n",
    "    Eold = E\n",
    "\n",
    "    if (dE < E_thld) and (dRMS < D_thld):\n",
    "        break\n",
    "    if Iter == I_thld:\n",
    "        raise Exception(\"Maximum number of SCF cycles exceeded.\")"
   ]
  },
  {
   "cell_type": "markdown",
   "id": "3d10e816",
   "metadata": {},
   "source": [
    "### Step 7: Calculate energy\n",
    "\n",
    "The electronic energy of system can be found as:\n",
    "\\begin{equation}\n",
    "E_{elec}= \\sum_{\\mu\\nu}^{AO} D_{\\mu\\nu}(h_{\\mu\\nu}+F_{\\mu\\nu})\n",
    "\\end{equation}\n",
    "\n",
    "The total energy is the sum of electronic energy and the nuclear repulsion energy:\n",
    "\\begin{equation}\n",
    "E_{tot}= E_{elec} + E_{nuc} \n",
    "\\end{equation}"
   ]
  },
  {
   "cell_type": "code",
   "execution_count": 25,
   "id": "22b72b77",
   "metadata": {},
   "outputs": [
    {
     "name": "stdout",
     "output_type": "stream",
     "text": [
      "-79.47597085836776\n"
     ]
    }
   ],
   "source": [
    "Eelec = np.einsum('pq,pq->', F + Hcore, D)\n",
    "print(Eelec)"
   ]
  }
 ],
 "metadata": {
  "kernelspec": {
   "display_name": "Python 3 (ipykernel)",
   "language": "python",
   "name": "python3"
  },
  "language_info": {
   "codemirror_mode": {
    "name": "ipython",
    "version": 3
   },
   "file_extension": ".py",
   "mimetype": "text/x-python",
   "name": "python",
   "nbconvert_exporter": "python",
   "pygments_lexer": "ipython3",
   "version": "3.10.6"
  },
  "vscode": {
   "interpreter": {
    "hash": "3b4dd1ce6c8ed31661adb8e55d1f9c30ec54ed472785ff10576acd13e5f2c743"
   }
  }
 },
 "nbformat": 4,
 "nbformat_minor": 5
}
