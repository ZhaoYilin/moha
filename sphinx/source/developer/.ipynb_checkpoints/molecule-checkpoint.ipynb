{
 "cells": [
  {
   "cell_type": "markdown",
   "id": "14144752",
   "metadata": {},
   "source": [
    "# Molecule\n",
    "\n",
    "A molecule is a system consisting of a nucleus and electrons. For quantum chemistry calculation in MoHa, we will always use the Born-Oppenheimer approximation, which assumes that the motion of atomic nuclei and electrons in a molecule can be separated.\n",
    "\\begin{equation}\n",
    "\\Psi_{molecule} = \\psi_{electronic} \\otimes \\psi_{nuclear}\n",
    "\\end{equation}\n",
    "\n",
    "The class `Molecule` in MoHa only contains information about the nuclear. In Moha package, it is a constructed as a subclass of python list, anyhow, for moha user, you can just use it as list of `Atom` instance. "
   ]
  },
  {
   "cell_type": "markdown",
   "id": "0a1a0a8f",
   "metadata": {},
   "source": [
    "## Build\n",
    "\n",
    "To build a water molecule with MoHa, "
   ]
  },
  {
   "cell_type": "code",
   "execution_count": 4,
   "id": "9671f7ea",
   "metadata": {},
   "outputs": [],
   "source": [
    "from moha.molecule import Molecule\n",
    "\n",
    "geo = [[8,   0.000000000000,  -0.143225816552,   0.000000000000],\n",
    "    ['h',   1.638036840407,   1.136548822547,  -0.000000000000],\n",
    "    [\"H\",  -1.638036840407,   1.136548822547,  -0.000000000000]]\n",
    "\n",
    "mol = Molecule.build(geo,pg=False)"
   ]
  },
  {
   "cell_type": "markdown",
   "id": "83984ea9",
   "metadata": {},
   "source": [
    "We can specify the essential information of a molecule by Python iterator, tuple or list, in matrix format. Each row of the geo obejct represents an atom in molecule, with first element the number or symbol (case insensitive) of the element."
   ]
  },
  {
   "cell_type": "markdown",
   "id": "58ab9f2a",
   "metadata": {},
   "source": [
    "Another way to build the `Molecule` instance is loading the molecular geometry from .xyz file."
   ]
  },
  {
   "cell_type": "code",
   "execution_count": 5,
   "id": "628d2e82",
   "metadata": {},
   "outputs": [],
   "source": [
    "from moha.molecule import Molecule\n",
    "\n",
    "geo = './data/h2o.xyz'\n",
    "\n",
    "mol = Molecule.build(geo,pg=False)"
   ]
  },
  {
   "cell_type": "markdown",
   "id": "d753ce93",
   "metadata": {},
   "source": [
    "The XYZ file format is a chemical file format. There is no formal standard and several variations exist, but a typical XYZ format specifies the molecule geometry by giving the number of atoms with Cartesian coordinates that will be read on the first line, a comment on the second, and the lines of atomic coordinates in the following lines.\n",
    "\n",
    "The typical formatting of xyz is:\n",
    "\n",
    "    <number of atoms>\n",
    "    comment line\n",
    "    <element>   <X>    <Y>    <Z>\n",
    "    ...         \n",
    "    \n",
    "In quantum chemistry, the atomic unit system is generally used, here Bohr radius ($a_0$ = 0.0529177nm) is taken as the unit by default.    "
   ]
  },
  {
   "cell_type": "markdown",
   "id": "7e8b0fe2",
   "metadata": {},
   "source": [
    "Only instance of `Atom` class are allowed to be the element of `Molecule` instances. \n",
    "\n",
    "|  Atom  | number | name |symbol|coordinate|mass|\n",
    "|:--------:|:--------:|:------:|:------:|:----------:|:----:|\n",
    "|mol\\[0\\]|    8   | Oxygen   | O|(0.000000,-0.143225,0.000000)|15.9994|\n",
    "|mol\\[1\\]|    1   | Hydrogen | H|(1.638036,1.136548,-0.000000)|1.007975|\n",
    "|mol\\[2\\]|    1   | Hydrogen | H|(-1.638036,1.136548,-0.000000)|1.007975|"
   ]
  },
  {
   "cell_type": "markdown",
   "id": "352142c3",
   "metadata": {},
   "source": [
    "## Methods\n",
    "\n",
    "- Bond Lengths\n",
    "\n",
    "Calculate the atomic distances between atom i and atom j using the expression:\n",
    "\n",
    "\\begin{equation}\n",
    "R_{ij} = \\sqrt{(x_i-x_j)^2+(y_i-y_j)^2+(z_i-z_j)^2}\n",
    "\\end{equation}"
   ]
  },
  {
   "cell_type": "code",
   "execution_count": null,
   "id": "c1ab865d",
   "metadata": {},
   "outputs": [],
   "source": [
    "\n",
    "print(mol.bond_length(0,1))"
   ]
  },
  {
   "cell_type": "markdown",
   "id": "77aeb433",
   "metadata": {},
   "source": [
    "- Bond Angles\n",
    "\n",
    "Calculate bond angles between atoms i-j-k, where j is the central atom using the expression:\n",
    "\n",
    "\\begin{equation}\n",
    "\\Phi_{ijk} = \\sqrt{(x_i-x_j)^2+(y_i-y_j)^2+(z_i-z_j)^2}\n",
    "\\end{equation}\n",
    "\n",
    "where the eij are unit vectors between the atoms, e.g.,\n",
    "\n",
    "- Out-of-Plane Angles\n",
    "\n",
    "Calculate all possible out-of-plane angles. For example, the angle θijkl for atom i out of the plane containing atoms j-k-l (with k as the central atom, connected to i) is given by:\n",
    "\n",
    "\\begin{equation}\n",
    "\\Phi_{ijk} = \\sqrt{(x_i-x_j)^2+(y_i-y_j)^2+(z_i-z_j)^2}\n",
    "\\end{equation}\n",
    "\n",
    "- Center of Mass\n",
    "\n",
    "Find the center of mass of the molecule:\n",
    "\n",
    "\n",
    "\n",
    "\\begin{equation}\n",
    "\\begin{aligned}\n",
    "X_{com} = \\frac{\\sum_i m_i x_i}{\\sum_i m_i}\n",
    "&Y_{com} = \\frac{\\sum_i m_i y_i}{\\sum_i m_i}\n",
    "&Z_{com} = \\frac{\\sum_i m_i z_i}{\\sum_i m_i}\n",
    "\\end{aligned}\n",
    "\\end{equation}\n",
    "\n",
    "where mi is the mass of atom i and the summation runs over all atoms in the molecule.\n",
    "\n",
    "Translate the input coordinates of the molecule to the center-of-mass.\n",
    "\n",
    "\n",
    "- Rotational Constants"
   ]
  },
  {
   "cell_type": "code",
   "execution_count": 6,
   "id": "527b50b5",
   "metadata": {},
   "outputs": [
    {
     "name": "stdout",
     "output_type": "stream",
     "text": [
      "2.078698587436746\n",
      "[ 0.00000000e+00 -1.67374227e-05  0.00000000e+00]\n",
      "[[2.9322956  0.         0.        ]\n",
      " [0.         5.40912586 0.        ]\n",
      " [0.         0.         8.34142145]]\n"
     ]
    }
   ],
   "source": [
    "\n",
    "print(mol.center_of_mass)\n",
    "print(mol.moment_of_inertia)"
   ]
  },
  {
   "cell_type": "code",
   "execution_count": null,
   "id": "2bf0106c",
   "metadata": {},
   "outputs": [],
   "source": []
  }
 ],
 "metadata": {
  "kernelspec": {
   "display_name": "Python 3 (ipykernel)",
   "language": "python",
   "name": "python3"
  },
  "language_info": {
   "codemirror_mode": {
    "name": "ipython",
    "version": 3
   },
   "file_extension": ".py",
   "mimetype": "text/x-python",
   "name": "python",
   "nbconvert_exporter": "python",
   "pygments_lexer": "ipython3",
   "version": "3.10.6"
  },
  "vscode": {
   "interpreter": {
    "hash": "3b4dd1ce6c8ed31661adb8e55d1f9c30ec54ed472785ff10576acd13e5f2c743"
   }
  }
 },
 "nbformat": 4,
 "nbformat_minor": 5
}
