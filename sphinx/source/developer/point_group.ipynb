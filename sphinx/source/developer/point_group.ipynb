{
 "cells": [
  {
   "cell_type": "markdown",
   "id": "5a8e80d4",
   "metadata": {},
   "source": [
    "# Point Group Symmetry\n",
    "\n",
    "\n",
    "Point group symmetry is an important property of molecules widely used in many branches of chemistry: electronic structure, spectroscopy, and crystallography. An individual point group is represented by a set of symmetry operations:\n",
    "\n",
    "\\begin{equation}\n",
    "\\begin{aligned}\n",
    "L^2 |\\Psi\\rangle &= L(L+1)|\\Psi\\rangle\\\\\n",
    "L_z |\\Psi\\rangle &= M_L|\\Psi\\rangle\n",
    "\\end{aligned}\n",
    "\\end{equation}"
   ]
  },
  {
   "cell_type": "markdown",
   "id": "bc40f05b",
   "metadata": {},
   "source": [
    "## Symmetry Operations and Elements\n",
    "\n",
    "A group point symmetry operation is an operation that is performed to a molecule which leaves it indistinguishable and superimposable on the original position. Symmetry operations are performed with respect to symmetry elements (points, lines, or planes).\n",
    "\n",
    "There are five types of symmetry operations including identity, reflection, inversion, proper rotation, and improper rotation. The improper rotation is the sum of a rotation followed by a reflection. The symmetry elements that correspond to the five types of symmetry operations are listed in Table.\n",
    "\n",
    "- Identity (E)\n",
    "\n",
    "    Identity element is the basic requirement for the minimal group. The identity operation is doing nothing to the molecule (it doesn't rotate, reflect, or invert...it just is).\n",
    "\n",
    "\\begin{equation}\n",
    "E=\n",
    "\\begin{pmatrix}\n",
    "1&0&0\\\\\n",
    "0&1&0\\\\\n",
    "0&0&1\n",
    "\\end{pmatrix}\n",
    "\\end{equation}\n",
    "\n",
    "- Inversion (i)\n",
    "\n",
    "    The inversion operation requires a point of symmetry (a center of symmetry within a molecule). In other words, a point at the center of the molecule that can transform (x,y,z) into (-x,-y,-z) coordinate. and Inversion Center \n",
    "\n",
    "\\begin{equation}\n",
    "i=\n",
    "\\begin{pmatrix}\n",
    "-1&0&0\\\\\n",
    "0&-1&0\\\\\n",
    "0&0&-1\n",
    "\\end{pmatrix}\n",
    "\\end{equation}\n",
    "\n",
    "- Proper Rotation and Proper Axis ($C_n$)\n",
    "\n",
    "    A \"proper\" rotation is just a simple rotation operation about an axis. The symbol for any proper rotation or proper axis is $C_n$, where n is the degree of rotation. Thus, a 180° rotation is a $C_2$ rotation around a $C_2$ axis, and a 120° rotation is a C3 rotation about a $C_3$ axis $\\theta = \\frac{2\\pi k}{n}$.\n",
    "\n",
    "\\begin{equation}\n",
    "C_n^k=\n",
    "\\begin{pmatrix}\n",
    "x^2(1-cos(\\theta))+cos(\\theta)&xy(1-cos(\\theta))+zsin(\\theta)&xz(1-cos(\\theta))+ysin(\\theta)\\\\\n",
    "xy(1-cos(\\theta))+zsin(\\theta)&y^2(1-cos(\\theta))+cos(\\theta)&yz(1-cos(\\theta))+xsin(\\theta)\\\\\n",
    "xz(1-cos(\\theta))-ysin(\\theta)&zy(1-cos(\\theta))+xsin(\\theta)&z^2(1-cos(\\theta))+cos(\\theta)\n",
    "\\end{pmatrix}\n",
    "\\end{equation}\n",
    "\n",
    "- Reflection and Symmetry Planes ($\\sigma$)\n",
    "    \n",
    "    Symmetry planes are mirror planes within the molecule. A reflection operation occurs with respect to a plane of symmetry. reflection plane There are three classes of symmetry elements:\n",
    "\n",
    "\\begin{equation}\n",
    "\\sigma=\n",
    "\\begin{pmatrix}\n",
    "1-2x^2&-2xy&-2xz\\\\\n",
    "-2xy&1-2y^2&-2yz\\\\\n",
    "-2xz&-2yz&1-2z^2\n",
    "\\end{pmatrix}\n",
    "\\end{equation}\n",
    "\n",
    "\n",
    "- Improper rotation ($S_n$)\n",
    "\n",
    "    Improper rotation is a combination of a rotation with respect to an axis of rotation ($C_n$), followed by a reflection through a plane perpendicular to that $C_n$ axis. In short, and $S_n$ operation is equivalent to Cn followed by  $\\sigma_h$ .\n",
    "    \n",
    "\\begin{equation}\n",
    "S_n = C_n \\sigma_h\n",
    "\\end{equation}\n",
    "\n",
    "\n",
    "|  Symbol  | Element | Operator Symbol | Operation |\n",
    "|:--------:|:--------:|:------:|:------|\n",
    "|E|    Identity   | E | The identity operation|\n",
    "|i|    Inversion center   | i | Inversion through a center of symmetry|\n",
    "|$\\sigma$|    Symmetry plane   | $\\sigma$ | Reflection |\n",
    "|$C_n$|    Proper Axis   | $C_n^1$ | Rotation by 2π/n angle|\n",
    "|$S_n$|    Improper Axis   | $S_n^1 = \\sigma C_n^1$ | Rotation by 2π/n angle and reflection in the plane perpendicular to the axis |"
   ]
  },
  {
   "cell_type": "markdown",
   "id": "98268c48",
   "metadata": {},
   "source": [
    "## Abelian Point Group\n",
    "\n",
    "In most cases the standard quantum chemical packages can take advantage of Abelian point group to reduce the computational costs. In addition of general group definitions, the binary operation on Abelian groups is commutative. Because these Abelian groups P all have real-valued character tables, the direct product of any irrep $I_j$ with itself gives the trivial irrep $I_0$:\n",
    "\n",
    "\\begin{equation}\n",
    "\\forall I_j: I_j\\otimes I_j  = E\n",
    "\\end{equation}\n",
    "\n",
    "More accurately, D2h and its subgroups -- which means that higher symmetry structures can yield up to a factor of 64 reduction in the computational costs.\n",
    "\n",
    "- $D_{2h}$ Character Tables in Standary Orientation\n",
    "\n",
    "|$D_{2h}$ |E|$C_2(z)$|$C_2(y)$|$C_2(x)$|i|$\\sigma(xy)$|$\\sigma(xz)$|$\\sigma(yz)$|linear|quadratic|cubic|\n",
    "|:--------:|:---:|:---:|:---:|:---:|:---:|:---:|:---:|:---:|:---:|:---:|:---:|\n",
    "|$A_g$|1|1|1|1|1|1|1|1|-|$x^2,y^2,z^2$|-| \t \t \t \t \t \t \n",
    "|$B_{1g}$|1|1|-1|-1|1|1|-1|-1|$R_z$|xy|-|\t \t \t \t \t \t \n",
    "|$B_{2g}$|1|-1|1|-1|1|-1|1|-1|$R_y$|xz|-|\t \t \t \t \t \t \n",
    "|$B_{3g}$|1|-1|-1|1|1|-1|-1|1|$R_x$|yz|-| \t \t \t \t \t \n",
    "|$A_u$|1|1|1|1|-1|-1|-1|-1|-|-|xyz|\t \t \t \t \n",
    "|$B_{1u}$|1|1|-1|-1|-1|-1|1|1|z|-|$z^3,y^2z,x^2z$|\t \t \t \t \n",
    "|$B_{2u}$|1|-1|1|-1|-1|1|-1|1|y|-|$yz^,y^3,x^2y$|\t \t \t \t \n",
    "|$B_{3u}$|1|-1|-1|1|-1|1|1|-1|x|-|$xz^2,xy^2,z^3$|\n",
    " \n",
    "- Ordering of irreps follows the convention used in Cotton’s Chemical Applications of Group Theory\n",
    "\n",
    "|  Point Group  |0|1|2|3|4|5|6|7\n",
    "|:--------:|:---:|:---:|:---:|:---:|:---:|:---:|:---:|:---:|\n",
    "|$C_1$\t|A|\t||||||| \t \t \t \t \t \t \n",
    "|$C_i$\t|$A_g$|$A_u$|||||||\t \t \t \t \t \t \n",
    "|$C_2$\t|A|\tB|||||||\t \t \t \t \t \t \n",
    "|$C_s$\t|A'|A''||||||| \t \t \t \t \t \n",
    "|$D_2$\t|A |$B_1$|$B_2$|$B_3$|||||\t \t \t \t \n",
    "|$C_{2v}$|$A_1$|$A_2$|$B_1$|\t$B_2$|||||\t \t \t \t \n",
    "|$C_{2h}$|$A_g$|$B_g$|$A_u$|\t$B_u$|||||\t \t \t \t \n",
    "|$D_{2h}$|$A_g$|$B_{1g}$|$B_{2g}$|$B_{3g}$|$A_u$|$B_{1u}$|$B_{2u}$|$B_{3u}$|"
   ]
  },
  {
   "cell_type": "markdown",
   "id": "836ea6d8",
   "metadata": {},
   "source": [
    "## Algorithm\n",
    "\n",
    "- Moments of Inertia\n",
    "\n",
    "\\begin{equation}\n",
    "I  = \n",
    "\\left[\n",
    "\\begin{matrix}\n",
    "I_{xx}&I_{xy}&I_{xz}\\\\\n",
    "I_{yx}&I_{yy}&I_{yz}\\\\\n",
    "I_{zx}&I_{zy}&I_{zz}\\\\\n",
    "\\end{matrix}\n",
    "\\right]\n",
    "\\quad\n",
    "I  = \n",
    "\\left[\n",
    "\\begin{matrix}\n",
    "I_a&0&0\\\\\n",
    "0&I_b&0\\\\\n",
    "0&0&I_c\\\\\n",
    "\\end{matrix}\n",
    "\\right]\n",
    "\\end{equation}\n",
    "\n",
    "\n",
    "PRINCIPLE AXIS: The principle axis of a molecule is the highest order proper rotation axis. For example, if a molecule had C2 and C4 axes, the C4 is the principle axis.\n",
    "\n",
    "|  Rotor Type  |  |Point Group | \n",
    "|:--------|:--------|:--------|\n",
    "|Linear| $I_a=0$ and $I_b=I_c\\neq 0$   |$C_{\\infty v}$,$D_{\\infty h}$   | \n",
    "|Spherical  Top|  $I_a=I_b=I_c$  |$T_d$,$T_h$,$O_h$,$I_h$,K   | \n",
    "|Symmetric  Top|    |$C_n$,$C_{nh}$,$C_{nv}$,$D_n$,$D_{nh}$,$D_{nd}$,$S_n$   | \n",
    "|Asymmetric  Top|  $I_a<I_b<I_c$  |  $C_1$,$C_s$,$C_i$,$C_n$,$C_{nh}$,$C_{nv}$,$D_n$,$D_{nh}$,$D_{nd}$,$S_n$   | "
   ]
  },
  {
   "cell_type": "code",
   "execution_count": 1,
   "id": "50e056f8",
   "metadata": {
    "scrolled": true
   },
   "outputs": [],
   "source": [
    "import numpy as np\n",
    "from moha.molecule import Molecule\n",
    "\n",
    "np.set_printoptions(precision=5,suppress=True)\n",
    "\n",
    "#geo = [[8,2.,1,0],[8,2,-1,0],[8,-2,-1,0],[8,-2,1,0]]\n",
    "geo = './data/h2o.xyz'\n",
    "#geo = './data/pyridine.xyz'\n",
    "\n",
    "mol = Molecule.build(geo,pg=True)"
   ]
  },
  {
   "cell_type": "code",
   "execution_count": 2,
   "id": "91666908",
   "metadata": {
    "scrolled": true
   },
   "outputs": [
    {
     "name": "stdout",
     "output_type": "stream",
     "text": [
      "wwfwf [0. 0. 1.]\n",
      "PointGroup({C_{2}^{1}, C_{2}^{1}, E, sigma, C_{2}^{1}})\n",
      "D_{2h}\n",
      "False\n",
      "[0. 1. 0.]\n",
      "2\n",
      "False\n",
      "[0. 0. 1.]\n",
      "2\n",
      "True\n",
      "1\n",
      "1\n",
      "True\n",
      "[0. 1. 0.]\n",
      "2\n",
      "True\n",
      "[1. 0. 0.]\n",
      "2\n",
      "False\n"
     ]
    }
   ],
   "source": [
    "from moha.symmetry.point_group.point_group import PointGroup\n",
    "\n",
    "\n",
    "group, mol = PointGroup.build(mol)\n",
    "print(group)\n",
    "print(group.label)\n",
    "print(group.is_group)\n",
    "\n",
    "for operator in group:\n",
    "    print(operator.symmetry_element)\n",
    "    print(operator.order)\n",
    "    print(operator(mol)==mol)\n",
    "\n",
    "#print(group.D2h_subgroups)\n",
    "#print(group.D2h_subgroups.label)\n",
    "\n",
    "#new_mol = group.reflection_list[0](mol)\n",
    "#print(mol.geometry)\n",
    "#print(new_mol.geometry)\n",
    "#print(new_mol==mol)\n",
    "#print(group.symmetry_operators)\n",
    "#print(D2h().E)\n",
    "#print(D2h().i)\n",
    "#print(D2h().sigma)\n",
    "#print(D2h().Cn)\n",
    "#print(D2h().Sn)"
   ]
  },
  {
   "cell_type": "code",
   "execution_count": 3,
   "id": "2bf97095",
   "metadata": {},
   "outputs": [
    {
     "name": "stdout",
     "output_type": "stream",
     "text": [
      "[C_{4}^{1}, C_{4}^{2}, C_{4}^{3}]\n",
      "PointGroup({C_{2}^{1}, C_{2}^{1}, C_{2}^{1}, E, sigma, sigma, sigma, i})\n",
      "True\n",
      "[E]\n",
      "[i]\n",
      "[sigma, sigma, sigma]\n",
      "[C_{2}^{1}, C_{2}^{1}, C_{2}^{1}]\n",
      "[]\n",
      "fffffffffffffffff\n",
      "[C_{2}^{1} C_{2}^{1} C_{2}^{1}]\n",
      "[C_{2}^{1}, C_{2}^{1}]\n",
      "[sigma]\n",
      "[sigma, sigma]\n",
      "[]\n",
      "fffffffffffffffff\n"
     ]
    }
   ],
   "source": [
    "from moha.symmetry.point_group.symmetry_operator import *\n",
    "from moha.symmetry.point_group.point_group import PointGroup\n",
    "\n",
    "r =  Rotation([0.0,0.0,2.0],4)        \n",
    "print(r.expansion)\n",
    "\n",
    "\n",
    "\n",
    "symmetry_operators = [\n",
    "    Identity(),\n",
    "    Inversion(),\n",
    "    Reflection([1.0,0.0,0.0]),\n",
    "    Reflection([0.0,1.0,0.0]),\n",
    "    Reflection([0.0,0.0,1.0]),\n",
    "    Rotation([1.0,0.0,0.0],2),\n",
    "    Rotation([0.0,1.0,0.0],2),\n",
    "    Rotation([0.0,0.0,1.0],2)\n",
    "] \n",
    "\n",
    "G = PointGroup(symmetry_operators)\n",
    "print(G)\n",
    "print(G.is_group)\n",
    "print(G.E)\n",
    "print(G.i)\n",
    "print(G.sigma)\n",
    "print(G.Cn)\n",
    "print(G.Sn)\n",
    "print(\"fffffffffffffffff\")\n",
    "print(G.Cn_principals)\n",
    "print(G.C2_perpendicular)\n",
    "print(G.sigma_h)\n",
    "print(G.sigma_v)\n",
    "print(G.sigma_d)\n",
    "print(\"fffffffffffffffff\")"
   ]
  },
  {
   "cell_type": "code",
   "execution_count": 4,
   "id": "104e500d",
   "metadata": {},
   "outputs": [
    {
     "name": "stdout",
     "output_type": "stream",
     "text": [
      "True\n",
      "True\n",
      "[PointGroup({E}), PointGroup({C_{2}^{1}, E}), PointGroup({C_{2}^{1}, E}), PointGroup({C_{2}^{1}, E}), PointGroup({E, sigma}), PointGroup({E, sigma}), PointGroup({E, sigma}), PointGroup({E, i}), PointGroup({C_{2}^{1}, C_{2}^{1}, E, C_{2}^{1}}), PointGroup({C_{2}^{1}, sigma, E, sigma}), PointGroup({C_{2}^{1}, i, E, sigma}), PointGroup({C_{2}^{1}, sigma, E, sigma}), PointGroup({C_{2}^{1}, i, E, sigma}), PointGroup({C_{2}^{1}, i, E, sigma}), PointGroup({C_{2}^{1}, sigma, E, sigma}), PointGroup({C_{2}^{1}, C_{2}^{1}, E, sigma, sigma, C_{2}^{1}, sigma, i})]\n",
      "[PointGroup({E}), PointGroup({C_{2}^{1}, E}), PointGroup({C_{2}^{1}, E}), PointGroup({E, sigma}), PointGroup({E, sigma}), PointGroup({E, C_{2}^{1}}), PointGroup({E, sigma}), PointGroup({E, i}), PointGroup({C_{2}^{1}, C_{2}^{1}, E, C_{2}^{1}}), PointGroup({C_{2}^{1}, i, E, sigma}), PointGroup({C_{2}^{1}, sigma, E, sigma}), PointGroup({C_{2}^{1}, sigma, E, sigma}), PointGroup({C_{2}^{1}, i, E, sigma}), PointGroup({E, C_{2}^{1}, sigma, sigma}), PointGroup({E, i, C_{2}^{1}, sigma}), PointGroup({C_{2}^{1}, C_{2}^{1}, E, sigma, sigma, C_{2}^{1}, sigma, i})]\n"
     ]
    }
   ],
   "source": [
    "print(G.is_group)\n",
    "print(G.is_abelian_group)\n",
    "print(G.subgroups)\n",
    "print(G.D2h_subgroups)\n",
    "#print(symmetry_operators[2]==symmetry_operators[2])      \n",
    "#print(G.subsets)"
   ]
  },
  {
   "cell_type": "code",
   "execution_count": 5,
   "id": "dcfc41d5",
   "metadata": {},
   "outputs": [
    {
     "name": "stdout",
     "output_type": "stream",
     "text": [
      "(array([2.9323 , 5.40913, 8.34142]), array([[0., 0., 1.],\n",
      "       [1., 0., 0.],\n",
      "       [0., 1., 0.]]))\n",
      "[[ 8.       0.       0.      -0.14321]\n",
      " [ 1.       0.       1.63804  1.13657]\n",
      " [ 1.       0.      -1.63804  1.13657]]\n",
      "[[ 8.       0.       0.      -0.14321]\n",
      " [ 1.      -0.      -1.63804  1.13657]\n",
      " [ 1.       0.       1.63804  1.13657]]\n",
      "True\n"
     ]
    }
   ],
   "source": [
    "\n",
    "from moha.symmetry.point_group.symmetry_operator import *\n",
    "import math\n",
    "\n",
    "mol = mol.translation(mol.center_of_mass)\n",
    "mol = mol.standary_orientation()\n",
    "mol = mol.translation(mol.center_of_mass)\n",
    "value, vector = mol.principal_moments_of_inertia\n",
    "print(mol.principal_moments_of_inertia)\n",
    "\n",
    "#mol_new = C2v().reflection_list[1](mol)\n",
    "#print(np.array(mol_new.geometry))\n",
    "\n",
    "C2 = Rotation([0,0,1.],2)\n",
    "mol_new = C2(mol)\n",
    "\n",
    "print(np.array(mol.geometry))\n",
    "print(np.array(mol_new.geometry))\n",
    "\n",
    "print(mol==mol_new)"
   ]
  },
  {
   "cell_type": "code",
   "execution_count": 6,
   "id": "1f1514cf",
   "metadata": {},
   "outputs": [
    {
     "name": "stdout",
     "output_type": "stream",
     "text": [
      "(array([2.9323 , 5.40913, 8.34142]), array([[0., 0., 1.],\n",
      "       [1., 0., 0.],\n",
      "       [0., 1., 0.]]))\n",
      "[[ 8.       0.       0.      -0.14321]\n",
      " [ 1.       0.       1.63804  1.13657]\n",
      " [ 1.       0.      -1.63804  1.13657]]\n",
      "(array([2.9323 , 5.40913, 8.34142]), array([[1., 0., 0.],\n",
      "       [0., 0., 1.],\n",
      "       [0., 1., 0.]]))\n",
      "[[ 8.       0.       0.      -0.14321]\n",
      " [ 1.       1.63804  0.       1.13657]\n",
      " [ 1.      -1.63804  0.       1.13657]]\n",
      "[[ 8.       0.       0.      -0.14321]\n",
      " [ 1.      -1.63804  0.       1.13657]\n",
      " [ 1.       1.63804 -0.       1.13657]]\n",
      "True\n",
      "[[ 1.  0.  0.  0.]\n",
      " [ 0. -1.  0.  0.]\n",
      " [ 0.  0.  1.  0.]\n",
      " [ 0.  0.  0.  1.]]\n"
     ]
    }
   ],
   "source": [
    "# Find the center of mass of the molecule\n",
    "mol = mol.translation(mol.center_of_mass)\n",
    "value, vector = mol.principal_moments_of_inertia\n",
    "print(mol.principal_moments_of_inertia)\n",
    "print(np.array(mol.geometry))\n",
    "\n",
    "basis = np.array([vector[:,0],vector[:,2],vector[:,1]])\n",
    "mol = mol.basis_transformation(basis.T)\n",
    "v, w = mol.principal_moments_of_inertia\n",
    "print(mol.principal_moments_of_inertia)\n",
    "print(np.array(mol.geometry))\n",
    "\n",
    "\n",
    "C_x = Rotation([1,0,0],2)\n",
    "C_y = Rotation([0,1,0],2)\n",
    "C_z = Rotation([0,0,1],2)\n",
    "\n",
    "sigma_xz = Reflection([0,1,0])\n",
    "sigma_yz = Reflection([1,0,0])\n",
    "sigma_xy = Reflection([0,0,1])\n",
    "new_mol = C_z(mol)\n",
    "#new_mol = sigma_yz(mol)\n",
    "\n",
    "#new_mol = C2v(mol).reflection_list[1](mol)\n",
    "print(np.array(new_mol.geometry))\n",
    "\n",
    "print(new_mol==mol)\n",
    "\n",
    "print(sigma_xz.homogeneous_matrix)"
   ]
  },
  {
   "cell_type": "code",
   "execution_count": 7,
   "id": "eb41cc24",
   "metadata": {
    "scrolled": false
   },
   "outputs": [
    {
     "name": "stdout",
     "output_type": "stream",
     "text": [
      "[0. 0. 0.]\n",
      "[[1. 0. 0.]\n",
      " [0. 1. 0.]\n",
      " [0. 0. 1.]]\n"
     ]
    },
    {
     "ename": "AttributeError",
     "evalue": "'list' object has no attribute 'pg'",
     "output_type": "error",
     "traceback": [
      "\u001b[0;31m---------------------------------------------------------------------------\u001b[0m",
      "\u001b[0;31mAttributeError\u001b[0m                            Traceback (most recent call last)",
      "Input \u001b[0;32mIn [7]\u001b[0m, in \u001b[0;36m<cell line: 6>\u001b[0;34m()\u001b[0m\n\u001b[1;32m      4\u001b[0m \u001b[38;5;28mprint\u001b[39m(value)\n\u001b[1;32m      5\u001b[0m \u001b[38;5;28mprint\u001b[39m(vector)\n\u001b[0;32m----> 6\u001b[0m \u001b[38;5;28mprint\u001b[39m(SEA\u001b[38;5;241m.\u001b[39mpg)\n\u001b[1;32m      8\u001b[0m \u001b[38;5;28;01mfrom\u001b[39;00m \u001b[38;5;21;01mmoha\u001b[39;00m\u001b[38;5;21;01m.\u001b[39;00m\u001b[38;5;21;01msymmetry\u001b[39;00m\u001b[38;5;21;01m.\u001b[39;00m\u001b[38;5;21;01mpoint_group\u001b[39;00m\u001b[38;5;21;01m.\u001b[39;00m\u001b[38;5;21;01mrotation\u001b[39;00m \u001b[38;5;28;01mimport\u001b[39;00m Rotation\n\u001b[1;32m      9\u001b[0m C3 \u001b[38;5;241m=\u001b[39m Rotation(\u001b[38;5;241m3\u001b[39m,vector[:,\u001b[38;5;241m2\u001b[39m])\n",
      "\u001b[0;31mAttributeError\u001b[0m: 'list' object has no attribute 'pg'"
     ]
    }
   ],
   "source": [
    "SEA = mol.symmetrically_equivalent_atoms()\n",
    "sea = SEA[0]\n",
    "value, vector = sea.principal_moments_of_inertia\n",
    "print(value)\n",
    "print(vector)\n",
    "print(SEA.pg)\n",
    "\n",
    "from moha.symmetry.point_group.rotation import Rotation\n",
    "C3 = Rotation(3,vector[:,2])\n",
    "print(np.array(sea.geometry))\n",
    "print(np.array(C3(sea).geometry))\n",
    "\n",
    "print(np.allclose(np.array(sea.geometry),np.array(C3(sea).geometry),3))\n",
    "print(C3(sea)==sea)\n"
   ]
  },
  {
   "cell_type": "code",
   "execution_count": null,
   "id": "50b257fd",
   "metadata": {},
   "outputs": [],
   "source": []
  },
  {
   "cell_type": "code",
   "execution_count": null,
   "id": "ec8961c2",
   "metadata": {},
   "outputs": [],
   "source": []
  },
  {
   "cell_type": "code",
   "execution_count": null,
   "id": "d27ffd6c",
   "metadata": {},
   "outputs": [],
   "source": []
  }
 ],
 "metadata": {
  "kernelspec": {
   "display_name": "Python 3 (ipykernel)",
   "language": "python",
   "name": "python3"
  },
  "language_info": {
   "codemirror_mode": {
    "name": "ipython",
    "version": 3
   },
   "file_extension": ".py",
   "mimetype": "text/x-python",
   "name": "python",
   "nbconvert_exporter": "python",
   "pygments_lexer": "ipython3",
   "version": "3.10.6"
  },
  "vscode": {
   "interpreter": {
    "hash": "3b4dd1ce6c8ed31661adb8e55d1f9c30ec54ed472785ff10576acd13e5f2c743"
   }
  }
 },
 "nbformat": 4,
 "nbformat_minor": 5
}
