{
 "cells": [
  {
   "cell_type": "markdown",
   "id": "847e4a0e",
   "metadata": {},
   "source": [
    "# Installation"
   ]
  },
  {
   "cell_type": "markdown",
   "id": "e27f5d91",
   "metadata": {},
   "source": [
    "## Compiling from source code\n",
    "This section gives the recommended way to install MoHa. One can find the source code on Github https://github.com/ZhaoYilin/moha.\n"
   ]
  },
  {
   "cell_type": "markdown",
   "id": "b3b1410e",
   "metadata": {},
   "source": [
    "Prerequisites\n",
    "-------------\n",
    "To manually install the package, make sure to have the following dependencies:\n",
    "\n",
    "* Python >=3.5\n",
    "* numpy >=1.13.1\n",
    "* scipy >=0.19.1\n",
    "* pytest >=6.2.5\n",
    "\n",
    "To install the prerequisite modules, use the conda or pip command:\n"
   ]
  },
  {
   "cell_type": "markdown",
   "id": "a3fdc835",
   "metadata": {},
   "source": [
    "```sh\n",
    "\n",
    "$ conda install numpy scipy pytest\n",
    "\n",
    "```"
   ]
  },
  {
   "cell_type": "markdown",
   "id": "7ed1de18",
   "metadata": {},
   "source": [
    "```sh\n",
    "\n",
    "$ pip install numpy scipy pytest\n",
    "\n",
    "```"
   ]
  },
  {
   "cell_type": "markdown",
   "id": "57f75f10",
   "metadata": {},
   "source": [
    "### Compile\n",
    "\n",
    "To compile MoHa from the source code, download the package from Github:\n",
    "\n",
    "```sh\n",
    "\n",
    "$ gh repo clone ZhaoYilin/moh\n",
    "\n",
    "``` \n",
    "\n",
    "Next, move to the `moha` folder and run:\n",
    "\n",
    "```sh\n",
    "\n",
    "$ python3 -m pip install -e .\n",
    "\n",
    "``` "
   ]
  },
  {
   "cell_type": "markdown",
   "id": "3ccc3309",
   "metadata": {},
   "source": [
    "### Unit test\n",
    "To ensure that the installation was successful, run a unit test with the pytest module. Inside the `/moha` folder and run:\n",
    "\n",
    "```sh\n",
    "\n",
    "$ pytest \n",
    "\n",
    "``` "
   ]
  },
  {
   "cell_type": "markdown",
   "id": "d6dae9d0",
   "metadata": {},
   "source": [
    "## Installation with pip\n",
    "\n",
    "The pip package provides a precompiled MoHa code (python wheel) which works on almost all Linux systems and most Mac OS X systems. You can install moha with:\n",
    "```sh\n",
    "\n",
    "$ pip install moha\n",
    "\n",
    "```   \n",
    "\n",
    "If you already have installed MoHa via pip, you can upgrade it to the new version with:\n",
    "```sh\n",
    "\n",
    "$ pip install --upgrade moha\n",
    "\n",
    "```        "
   ]
  }
 ],
 "metadata": {
  "kernelspec": {
   "display_name": "Python 3 (ipykernel)",
   "language": "python",
   "name": "python3"
  },
  "language_info": {
   "codemirror_mode": {
    "name": "ipython",
    "version": 3
   },
   "file_extension": ".py",
   "mimetype": "text/x-python",
   "name": "python",
   "nbconvert_exporter": "python",
   "pygments_lexer": "ipython3",
   "version": "3.10.6"
  }
 },
 "nbformat": 4,
 "nbformat_minor": 5
}
