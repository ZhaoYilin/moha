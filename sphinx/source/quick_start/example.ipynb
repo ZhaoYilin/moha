{
 "cells": [
  {
   "cell_type": "markdown",
   "id": "a2fdda00",
   "metadata": {},
   "source": [
    "# Examples\n",
    "This chapter introduces the primary use of MoHa calculation, and you can find those examples in the `moharoot/data/examples` directory. The accompanying user guide will present additional details on the various modules.\n",
    "\n",
    "\n",
    "To begin a MoHa calculation, first build the Hamiltonian of a system. In terms of second quantization operators, a time-independent non-relativistic Hamiltonian gives:\n",
    "\\begin{equation}\n",
    "H = - \\sum_{ij} t_{ij}\\hat{c}^{\\dagger}_{i}\\hat{c}_{j} + \\frac{1}{2} \\sum_{ijkl}\n",
    "V_{ijkl}\\hat{c}^{\\dagger}_{i}\\hat{c}^{\\dagger}_{k}\\hat{c}_{l}\\hat{c}_{j}\n",
    "\\end{equation}\n",
    "\n",
    "The construction of the molecular Hamiltonian is set in three steps.\n",
    "\n",
    "- Construct a molecular geometry.\n",
    "- Generate a basis set for the molecular.\n",
    "- Generate all kinds of operators with molecule and basis set to define a Hamiltonian.\n"
   ]
  },
  {
   "cell_type": "markdown",
   "id": "10908543",
   "metadata": {},
   "source": [
    "## Hartree-Fock\n",
    "The Hartree-Fock method is an uncorrelated mean-field theory that offers a qualitative description of chemical systems. Although Hartree-Fock theory is only qualitatively correct, it forms the basis for more accurate models and becomes the cornerstone of ab initio quantum chemistry.\n"
   ]
  },
  {
   "cell_type": "markdown",
   "id": "bb33f5a8",
   "metadata": {},
   "source": [
    "### Plain Solver\n",
    "A basic Hartree-Fock calculation with a plain solver can be performed by:"
   ]
  },
  {
   "cell_type": "code",
   "execution_count": null,
   "id": "558e7c42",
   "metadata": {},
   "outputs": [],
   "source": [
    "from moha import *\n",
    "\n",
    "log.output('silent')\n",
    "\n",
    "geo = [[8,   0.000000000000,  -0.143225816552,   0.000000000000],\n",
    "    ['h',   1.638036840407,   1.136548822547,  -0.000000000000],\n",
    "    [\"H\",  -1.638036840407,   1.136548822547,  -0.000000000000]]\n",
    "\n",
    "mol = Molecule.build(geo,pg=False)\n",
    "orb = BasisSet.build(mol,'sto-3g.nwchem')\n",
    "\n",
    "ham = Hamiltonian.build(mol,orb)\n",
    "sym = Symmetry(n=10,ms2=2,ipg=0)\n",
    "\n",
    "hf_solver = HFSolver(ham,sym)\n",
    "hf_energy,hf_wfn = hf_solver.uhf()"
   ]
  },
  {
   "cell_type": "code",
   "execution_count": 1,
   "id": "f7937799",
   "metadata": {},
   "outputs": [
    {
     "ename": "NameError",
     "evalue": "name 'hf_energy' is not defined",
     "output_type": "error",
     "traceback": [
      "\u001b[0;31m---------------------------------------------------------------------------\u001b[0m",
      "\u001b[0;31mNameError\u001b[0m                                 Traceback (most recent call last)",
      "Input \u001b[0;32mIn [1]\u001b[0m, in \u001b[0;36m<cell line: 1>\u001b[0;34m()\u001b[0m\n\u001b[0;32m----> 1\u001b[0m \u001b[38;5;28mprint\u001b[39m(hf_energy\u001b[38;5;241m+\u001b[39mmol\u001b[38;5;241m.\u001b[39me_nuc)\n",
      "\u001b[0;31mNameError\u001b[0m: name 'hf_energy' is not defined"
     ]
    }
   ],
   "source": [
    "print(hf_energy+mol.e_nuc)"
   ]
  },
  {
   "cell_type": "markdown",
   "id": "8142bf24",
   "metadata": {},
   "source": [
    "### DIIS Solver\n",
    "The convergence of the plain Hartree-Fock solver is relatively slow. One of the most effective methods for speeding up such iterative sequences is the \"Direct Inversion in the Iterative Subspace(DIIS)\" approach.\n"
   ]
  },
  {
   "cell_type": "code",
   "execution_count": 13,
   "id": "a617a2e0",
   "metadata": {},
   "outputs": [],
   "source": [
    "from moha import *\n",
    "\n",
    "log.output('silent')\n",
    "\n",
    "geo = [[8,   0.000000000000,  -0.143225816552,   0.000000000000],\n",
    "    ['h',   1.638036840407,   1.136548822547,  -0.000000000000],\n",
    "    [\"H\",  -1.638036840407,   1.136548822547,  -0.000000000000]]\n",
    "\n",
    "mol = Molecule.build(geo,pg=False)\n",
    "orb = BasisSet.build(mol,'sto-3g.nwchem')\n",
    "\n",
    "ham = Hamiltonian.build(mol,orb)\n",
    "\n",
    "hf_solver = HFSolver(ham,Symmetry(10,0,0))\n",
    "hf_energy,hf_wfn = hf_solver.rhf(acceleration=True)"
   ]
  },
  {
   "cell_type": "code",
   "execution_count": 14,
   "id": "a0d799e5",
   "metadata": {},
   "outputs": [
    {
     "name": "stdout",
     "output_type": "stream",
     "text": [
      "-74.94207992819217\n"
     ]
    }
   ],
   "source": [
    "print(hf_energy+mol.e_nuc)"
   ]
  },
  {
   "cell_type": "markdown",
   "id": "36e9fec6",
   "metadata": {},
   "source": [
    "## Post-Hartree-Fock\n",
    "Quantum chemistry is mature enough to have canonical approaches followed by the Hartree-Fock method. Their behavior, successes, and most importantly, their failures are widely known and accepted. With a couple of exceptions which we will not mention, they are:\n",
    "\n",
    "- Configuration Interaction(CI)\n",
    "- Coupled-Cluster(CC)\n",
    "- Perturbation Theory(PT)\n"
   ]
  },
  {
   "cell_type": "markdown",
   "id": "a29fa0dd",
   "metadata": {},
   "source": [
    "### Configuration Interaction\n",
    "Configuration interaction approximates wave function by a linear expansion of N-electron basis functions made of a given one-electron basis. With CI wave function and CI basis set, the Schrödinger equation becomes a matrix-eigenvalue equation.\n"
   ]
  },
  {
   "cell_type": "markdown",
   "id": "5d30ed67",
   "metadata": {},
   "source": [
    "#### Full CI\n",
    "The full configuration interaction(FCI) method assumes that all electrons are correlated among all orbitals in a given system. Hence it provides numerically exact solutions (within the infinitely flexible complete basis set) to the electronic time-independent, non-relativistic Schrödinger equation."
   ]
  },
  {
   "cell_type": "code",
   "execution_count": null,
   "id": "f7d738cd",
   "metadata": {},
   "outputs": [],
   "source": [
    "from moha import *\n",
    "\n",
    "log.output('silent')\n",
    "\n",
    "geo = [[8,   0.000000000000,  -0.143225816552,   0.000000000000],\n",
    "    ['h',   1.638036840407,   1.136548822547,  -0.000000000000],\n",
    "    [\"H\",  -1.638036840407,   1.136548822547,  -0.000000000000]]\n",
    "\n",
    "mol = Molecule.build(geo,pg=False)\n",
    "orb = BasisSet.build(mol,'sto-3g.nwchem')\n",
    "\n",
    "ham = Hamiltonian.build(mol,orb)\n",
    "sym = Symmetry(n=10,ms2=2,ipg=0)\n",
    "\n",
    "hf_solver = HFSolver(ham,sym)\n",
    "hf_results,hf_wfn = hf_solver.hf()"
   ]
  },
  {
   "cell_type": "markdown",
   "id": "05636a97",
   "metadata": {},
   "source": [
    "#### CISD\n",
    "FCI method is exact in a given atomic orbital basis but prohibitively expensive. Therefore, to balance accuracy and computational time, we truncate the CI space by excitation level relative to the reference state. The most common truncation of the CI space expansion is CI singles and doubles (CISD).\n"
   ]
  },
  {
   "cell_type": "code",
   "execution_count": null,
   "id": "37b497c2",
   "metadata": {},
   "outputs": [],
   "source": [
    "from moha import *\n",
    "\n",
    "log.output('silent')\n",
    "\n",
    "geo = [[8,   0.000000000000,  -0.143225816552,   0.000000000000],\n",
    "    ['h',   1.638036840407,   1.136548822547,  -0.000000000000],\n",
    "    [\"H\",  -1.638036840407,   1.136548822547,  -0.000000000000]]\n",
    "\n",
    "mol = Molecule.build(geo,pg=False)\n",
    "orb = BasisSet.build(mol,'sto-3g.nwchem')\n",
    "\n",
    "ham = Hamiltonian.build(mol,orb)\n",
    "sym = Symmetry(n=10,ms2=2,ipg=0)\n",
    "\n",
    "hf_solver = HFSolver(ham,sym)\n",
    "hf_results,hf_wfn = hf_solver.hf()"
   ]
  },
  {
   "cell_type": "markdown",
   "id": "d7becfc4",
   "metadata": {},
   "source": [
    "### Coupled-Cluster\n",
    "Coupled cluster methods are among the most accurate electronic structure methods available today. Its wave function ansatz gives in exponential form $e^{\\hat{T}} \\vert\\Phi_0\\rangle$\n",
    "\n",
    "Where the cluster operator $\\hat{T}$ is the sum of $\\{\\hat{T}_{i}\\}$ generates all possible determinants having the i-th excitations from the reference $\\vert\\Phi_0\\rangle$."
   ]
  },
  {
   "cell_type": "markdown",
   "id": "5617e211",
   "metadata": {},
   "source": [
    "#### CCSD\n",
    "\n",
    "Truncating the cluster operator $\\hat{T}$ at doubles leads to the coupled cluster singles and doubles method(CCSD). By keeping only $\\hat{T}_1$ and $\\hat{T}_2$, we reach the balance between accuracy and computational time.\n"
   ]
  },
  {
   "cell_type": "code",
   "execution_count": null,
   "id": "70b0afa1",
   "metadata": {},
   "outputs": [],
   "source": [
    "from moha import *\n",
    "\n",
    "log.output('silent')\n",
    "\n",
    "geo = [[8,   0.000000000000,  -0.143225816552,   0.000000000000],\n",
    "    ['h',   1.638036840407,   1.136548822547,  -0.000000000000],\n",
    "    [\"H\",  -1.638036840407,   1.136548822547,  -0.000000000000]]\n",
    "\n",
    "mol = Molecule.build(geo,pg=False)\n",
    "orb = BasisSet.build(mol,'sto-3g.nwchem')\n",
    "\n",
    "ham = Hamiltonian.build(mol,orb)\n",
    "sym = Symmetry(n=10,ms2=2,ipg=0)\n",
    "\n",
    "hf_solver = HFSolver(ham,sym)\n",
    "hf_results,hf_wfn = hf_solver.hf()"
   ]
  },
  {
   "cell_type": "markdown",
   "id": "94600233",
   "metadata": {},
   "source": [
    "#### CCSD(T)\n",
    "\n",
    "Based on CCSD, the addition of perturbative triple correction gives the CCSD(T) method the “gold standard” in computational chemistry. It is now one of the most accurate methods applicable to reasonably large molecules."
   ]
  },
  {
   "cell_type": "code",
   "execution_count": null,
   "id": "e8b8b7a2",
   "metadata": {},
   "outputs": [],
   "source": [
    "from moha import *\n",
    "\n",
    "log.output('silent')\n",
    "\n",
    "geo = [[8,   0.000000000000,  -0.143225816552,   0.000000000000],\n",
    "    ['h',   1.638036840407,   1.136548822547,  -0.000000000000],\n",
    "    [\"H\",  -1.638036840407,   1.136548822547,  -0.000000000000]]\n",
    "\n",
    "mol = Molecule.build(geo,pg=False)\n",
    "orb = BasisSet.build(mol,'sto-3g.nwchem')\n",
    "\n",
    "ham = Hamiltonian.build(mol,orb)\n",
    "sym = Symmetry(n=10,ms2=2,ipg=0)\n",
    "\n",
    "hf_solver = HFSolver(ham,sym)\n",
    "hf_results,hf_wfn = hf_solver.hf()"
   ]
  },
  {
   "cell_type": "markdown",
   "id": "c3fb29de",
   "metadata": {},
   "source": [
    "### Perturbation Theory\n",
    "Perturbation theory is a collection of versatile methods used in many branches of science. It divides the system into a model part $\\hat{H}_0$ which is a known approximation to the real system $\\hat{H}$ and a perturbation part $\\lambda\\hat{V}$, where $\\lambda$ is a parameter that is small enough to guarantee convergence.\n",
    "\n",
    "Møller-Plesset perturbation theory is a particular case of perturbation theory, where we take the Fock operator $\\hat{F}$ as the model operator.\n"
   ]
  },
  {
   "cell_type": "markdown",
   "id": "8c49bfc2",
   "metadata": {},
   "source": [
    "#### MP2\n",
    "\n",
    "Depending on the choice of Møller-Plesset perturbation operator $\\hat{V}$, the first order correction energy $E_{MP1}$ might be zero or none zero, but $E_{MP0} + E_{MP1}$ is always equal to the Hartree-Fock energy $E_{HF}$. Hence, the first meaningful correction in Møller-Plesset perturbation theory is second-order energy.\n"
   ]
  },
  {
   "cell_type": "code",
   "execution_count": 16,
   "id": "ce3d9b8f",
   "metadata": {},
   "outputs": [],
   "source": [
    "from moha import *\n",
    "\n",
    "log.output('silent')\n",
    "\n",
    "geo = [[8,   0.000000000000,  -0.143225816552,   0.000000000000],\n",
    "    ['h',   1.638036840407,   1.136548822547,  -0.000000000000],\n",
    "    [\"H\",  -1.638036840407,   1.136548822547,  -0.000000000000]]\n",
    "\n",
    "mol = Molecule.build(geo,pg=False)\n",
    "orb = BasisSet.build(mol,'sto-3g.nwchem')\n",
    "\n",
    "ham = Hamiltonian.build(mol,orb)\n",
    "sym = Symmetry(n=10,ms2=2,ipg=0)\n",
    "\n",
    "hf_solver = HFSolver(ham,sym)\n",
    "hf_results,hf_wfn = hf_solver.hf()\n",
    "\n",
    "mp_solver = MPSolver(ham,hf_wfn)\n",
    "mp_results = mp_solver.mp2()"
   ]
  },
  {
   "cell_type": "code",
   "execution_count": 17,
   "id": "bb844367",
   "metadata": {},
   "outputs": [
    {
     "name": "stdout",
     "output_type": "stream",
     "text": [
      "-74.71555403713197\n"
     ]
    }
   ],
   "source": [
    "print(mp_results)"
   ]
  },
  {
   "cell_type": "markdown",
   "id": "bc8fa75e",
   "metadata": {},
   "source": [
    "## Property\n",
    "This section contains information about atomic and molecular properties implemented in MoHa."
   ]
  },
  {
   "cell_type": "markdown",
   "id": "4761da1a",
   "metadata": {},
   "source": [
    "### Population Analyasis\n",
    "\n",
    "Population analysis is the study of charge distribution in molecules. It requires the overlap integrals and the electron density and information about the number of basis functions centered on each atom."
   ]
  },
  {
   "cell_type": "code",
   "execution_count": null,
   "id": "3d8c6fc7",
   "metadata": {},
   "outputs": [],
   "source": [
    "from moha import *\n",
    "\n",
    "log.output('silent')\n",
    "\n",
    "geo = [[8,   0.000000000000,  -0.143225816552,   0.000000000000],\n",
    "    ['h',   1.638036840407,   1.136548822547,  -0.000000000000],\n",
    "    [\"H\",  -1.638036840407,   1.136548822547,  -0.000000000000]]\n",
    "\n",
    "mol = Molecule.build(geo,pg=False)\n",
    "orb = BasisSet.build(mol,'sto-3g.nwchem')\n",
    "\n",
    "ham = Hamiltonian.build(mol,orb)\n",
    "sym = Symmetry(n=10,ms2=2,ipg=0)\n",
    "\n",
    "hf_solver = HFSolver(ham,sym)\n",
    "hf_results,hf_wfn = hf_solver.hf()"
   ]
  },
  {
   "cell_type": "markdown",
   "id": "cee41e19",
   "metadata": {},
   "source": [
    "### Multipole Moment\n",
    "\n",
    "Multipole moments are the coefficients of a series expansion of a potential due to continuous or discrete sources. A multipole moment usually involves powers (or inverse powers) of the distance to the origin and some angular dependence.\n"
   ]
  },
  {
   "cell_type": "code",
   "execution_count": null,
   "id": "576e8321",
   "metadata": {},
   "outputs": [],
   "source": [
    "from moha import *\n",
    "\n",
    "log.output('silent')\n",
    "\n",
    "geo = [[8,   0.000000000000,  -0.143225816552,   0.000000000000],\n",
    "    ['h',   1.638036840407,   1.136548822547,  -0.000000000000],\n",
    "    [\"H\",  -1.638036840407,   1.136548822547,  -0.000000000000]]\n",
    "\n",
    "mol = Molecule.build(geo,pg=False)\n",
    "orb = BasisSet.build(mol,'sto-3g.nwchem')\n",
    "\n",
    "ham = Hamiltonian.build(mol,orb)\n",
    "sym = Symmetry(n=10,ms2=2,ipg=0)\n",
    "\n",
    "hf_solver = HFSolver(ham,sym)\n",
    "hf_results,hf_wfn = hf_solver.hf()"
   ]
  }
 ],
 "metadata": {
  "kernelspec": {
   "display_name": "Python 3 (ipykernel)",
   "language": "python",
   "name": "python3"
  },
  "language_info": {
   "codemirror_mode": {
    "name": "ipython",
    "version": 3
   },
   "file_extension": ".py",
   "mimetype": "text/x-python",
   "name": "python",
   "nbconvert_exporter": "python",
   "pygments_lexer": "ipython3",
   "version": "3.10.6"
  }
 },
 "nbformat": 4,
 "nbformat_minor": 5
}
